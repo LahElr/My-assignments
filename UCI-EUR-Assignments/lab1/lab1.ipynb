{
 "cells": [
  {
   "cell_type": "code",
   "execution_count": 1,
   "source": [
    "# import packages\r\n",
    "import pandas\r\n",
    "import numpy"
   ],
   "outputs": [],
   "metadata": {}
  },
  {
   "cell_type": "code",
   "execution_count": 9,
   "source": [
    "# read in data\r\n",
    "data = pandas.read_csv(\"Cereals.csv\")"
   ],
   "outputs": [],
   "metadata": {}
  },
  {
   "cell_type": "code",
   "execution_count": 19,
   "source": [
    "print(data.head()) # see the data"
   ],
   "outputs": [
    {
     "output_type": "stream",
     "name": "stdout",
     "text": [
      "                        name mfr type  calories  protein  fat  sodium  fiber  \\\n",
      "0                  100%_Bran   N    C        70        4    1     130   10.0   \n",
      "1          100%_Natural_Bran   Q    C       120        3    5      15    2.0   \n",
      "2                   All-Bran   K    C        70        4    1     260    9.0   \n",
      "3  All-Bran_with_Extra_Fiber   K    C        50        4    0     140   14.0   \n",
      "4             Almond_Delight   R    C       110        2    2     200    1.0   \n",
      "\n",
      "   carbo  sugars  potass  vitamins  shelf  weight  cups     rating  \n",
      "0    5.0     6.0   280.0        25      3     1.0  0.33  68.402973  \n",
      "1    8.0     8.0   135.0         0      3     1.0  1.00  33.983679  \n",
      "2    7.0     5.0   320.0        25      3     1.0  0.33  59.425505  \n",
      "3    8.0     0.0   330.0        25      3     1.0  0.50  93.704912  \n",
      "4   14.0     8.0     NaN        25      3     1.0  0.75  34.384843  \n"
     ]
    }
   ],
   "metadata": {}
  },
  {
   "cell_type": "markdown",
   "source": [
    "# Summary Statistics"
   ],
   "metadata": {}
  },
  {
   "cell_type": "code",
   "execution_count": 16,
   "source": [
    "# statistic of numeric values\r\n",
    "print(data.describe())"
   ],
   "outputs": [
    {
     "output_type": "stream",
     "name": "stdout",
     "text": [
      "         calories    protein        fat      sodium      fiber      carbo  \\\n",
      "count   77.000000  77.000000  77.000000   77.000000  77.000000  76.000000   \n",
      "mean   106.883117   2.545455   1.012987  159.675325   2.151948  14.802632   \n",
      "std     19.484119   1.094790   1.006473   83.832295   2.383364   3.907326   \n",
      "min     50.000000   1.000000   0.000000    0.000000   0.000000   5.000000   \n",
      "25%    100.000000   2.000000   0.000000  130.000000   1.000000  12.000000   \n",
      "50%    110.000000   3.000000   1.000000  180.000000   2.000000  14.500000   \n",
      "75%    110.000000   3.000000   2.000000  210.000000   3.000000  17.000000   \n",
      "max    160.000000   6.000000   5.000000  320.000000  14.000000  23.000000   \n",
      "\n",
      "          sugars      potass    vitamins      shelf     weight       cups  \\\n",
      "count  76.000000   75.000000   77.000000  77.000000  77.000000  77.000000   \n",
      "mean    7.026316   98.666667   28.246753   2.207792   1.029610   0.821039   \n",
      "std     4.378656   70.410636   22.342523   0.832524   0.150477   0.232716   \n",
      "min     0.000000   15.000000    0.000000   1.000000   0.500000   0.250000   \n",
      "25%     3.000000   42.500000   25.000000   1.000000   1.000000   0.670000   \n",
      "50%     7.000000   90.000000   25.000000   2.000000   1.000000   0.750000   \n",
      "75%    11.000000  120.000000   25.000000   3.000000   1.000000   1.000000   \n",
      "max    15.000000  330.000000  100.000000   3.000000   1.500000   1.500000   \n",
      "\n",
      "          rating  \n",
      "count  77.000000  \n",
      "mean   42.665705  \n",
      "std    14.047289  \n",
      "min    18.042851  \n",
      "25%    33.174094  \n",
      "50%    40.400208  \n",
      "75%    50.828392  \n",
      "max    93.704912  \n"
     ]
    }
   ],
   "metadata": {}
  },
  {
   "cell_type": "code",
   "execution_count": 30,
   "source": [
    "# statistic of discreate values\r\n",
    "print(data[\"mfr\"].value_counts())\r\n",
    "print(\"-\"*17)\r\n",
    "print(data[\"type\"].value_counts())"
   ],
   "outputs": [
    {
     "output_type": "stream",
     "name": "stdout",
     "text": [
      "K    23\n",
      "G    22\n",
      "P     9\n",
      "Q     8\n",
      "R     8\n",
      "N     6\n",
      "A     1\n",
      "Name: mfr, dtype: int64\n",
      "-----------------\n",
      "C    74\n",
      "H     3\n",
      "Name: type, dtype: int64\n"
     ]
    }
   ],
   "metadata": {}
  },
  {
   "cell_type": "code",
   "execution_count": 15,
   "source": [
    "data.shape"
   ],
   "outputs": [
    {
     "output_type": "execute_result",
     "data": {
      "text/plain": [
       "(77, 16)"
      ]
     },
     "metadata": {},
     "execution_count": 15
    }
   ],
   "metadata": {}
  },
  {
   "cell_type": "markdown",
   "source": [
    "# Quantitative/Numerical"
   ],
   "metadata": {}
  },
  {
   "cell_type": "code",
   "execution_count": 33,
   "source": [
    "# find the columns with values with less than 10 choices and print them\r\n",
    "for col in data.columns:\r\n",
    "    ct = data[col].unique().__len__()\r\n",
    "    print(col,\":\",ct,end=\"\\t\")\r\n",
    "    if ct < 10:\r\n",
    "        print(data[col].unique(),end=\"\")\r\n",
    "    print()"
   ],
   "outputs": [
    {
     "output_type": "stream",
     "name": "stdout",
     "text": [
      "name : 77\t\n",
      "mfr : 7\t['N' 'Q' 'K' 'R' 'G' 'P' 'A']\n",
      "type : 2\t['C' 'H']\n",
      "calories : 11\t\n",
      "protein : 6\t[4 3 2 1 6 5]\n",
      "fat : 5\t[1 5 0 2 3]\n",
      "sodium : 27\t\n",
      "fiber : 13\t\n",
      "carbo : 22\t\n",
      "sugars : 17\t\n",
      "potass : 36\t\n",
      "vitamins : 3\t[ 25   0 100]\n",
      "shelf : 3\t[3 1 2]\n",
      "weight : 7\t[1.   1.33 1.25 1.3  1.5  0.5  0.83]\n",
      "cups : 12\t\n",
      "rating : 77\t\n"
     ]
    }
   ],
   "metadata": {}
  },
  {
   "cell_type": "markdown",
   "source": [
    "## conclude\r\n",
    "\r\n",
    "So the `mfr`, `type` are nominal; `protein`, `shelf`, `fat` are ordinal\r\n",
    "\r\n",
    "`vitamin` seems to be quantitative, but why there's only 3 possible values?\r\n",
    "\r\n",
    "and others are quantitative."
   ],
   "metadata": {}
  },
  {
   "cell_type": "markdown",
   "source": [
    "# Histogram"
   ],
   "metadata": {}
  },
  {
   "cell_type": "code",
   "execution_count": 46,
   "source": [
    "# import pyplot\r\n",
    "from matplotlib import pyplot as plt\r\n",
    "import math"
   ],
   "outputs": [],
   "metadata": {}
  },
  {
   "cell_type": "code",
   "execution_count": 184,
   "source": [
    "def histo(datas,interval,name,do_save):\r\n",
    "    plt.figure(figsize=(4,4))\r\n",
    "    lim_right = (math.ceil(max(datas)/interval))*interval\r\n",
    "    lim_left = (math.floor(min(datas)/interval))*interval\r\n",
    "    hist = plt.hist(datas,bins = numpy.arange(lim_left,lim_right+interval/2,interval).tolist(),edgecolor=\"blue\")\r\n",
    "    for i in range(len(hist[0])):\r\n",
    "        plt.annotate(text=int(hist[0][i]), xy=(hist[1][i] + interval / 3, hist[0][i]))\r\n",
    "    plt.title(\"histogram of {}, bin size {}\".format(name,interval))\r\n",
    "    if do_save:\r\n",
    "        plt.savefig(\"figs/histo_{}.png\".format(name))\r\n",
    "    plt.show()\r\n",
    "    "
   ],
   "outputs": [],
   "metadata": {}
  },
  {
   "cell_type": "code",
   "execution_count": 185,
   "source": [
    "quantitative_cols = [\"calories\",\"sodium\",\"fiber\",\"carbo\",\"sugars\",\"potass\",\"vitamins\",\"cups\",\"rating\"]\r\n",
    "for col in quantitative_cols:\r\n",
    "    datas = data[col].values\r\n",
    "    span = max(datas)-min(datas)\r\n",
    "    interval = 20 if span >= 140 else 10 if span >=50 else 5 if span >= 20 else 2 if span >= 10 else 1 if span >= 5 else 0.5 if span >=2 else 0.2\r\n",
    "    histo(datas,interval,col,True)"
   ],
   "outputs": [
    {
     "output_type": "display_data",
     "data": {
      "text/plain": [
       "<Figure size 288x288 with 1 Axes>"
      ],
      "image/png": "[encoded data removed]"
     },
     "metadata": {
      "needs_background": "light"
     }
    },
    {
     "output_type": "display_data",
     "data": {
      "text/plain": [
       "<Figure size 288x288 with 1 Axes>"
      ],
      "image/png": "[encoded data removed]"
     },
     "metadata": {
      "needs_background": "light"
     }
    },
    {
     "output_type": "display_data",
     "data": {
      "text/plain": [
       "<Figure size 288x288 with 1 Axes>"
      ],
      "image/png": "[encoded data removed]"
     },
     "metadata": {
      "needs_background": "light"
     }
    },
    {
     "output_type": "display_data",
     "data": {
      "text/plain": [
       "<Figure size 288x288 with 1 Axes>"
      ],
      "image/png": "[encoded data removed]"
     },
     "metadata": {
      "needs_background": "light"
     }
    },
    {
     "output_type": "display_data",
     "data": {
      "text/plain": [
       "<Figure size 288x288 with 1 Axes>"
      ],
      "image/png": "[encoded data removed]"
     },
     "metadata": {
      "needs_background": "light"
     }
    },
    {
     "output_type": "display_data",
     "data": {
      "text/plain": [
       "<Figure size 288x288 with 1 Axes>"
      ],
      "image/png": "[encoded data removed]"
     },
     "metadata": {
      "needs_background": "light"
     }
    },
    {
     "output_type": "display_data",
     "data": {
      "text/plain": [
       "<Figure size 288x288 with 1 Axes>"
      ],
      "image/png": "[encoded data removed]"
     },
     "metadata": {
      "needs_background": "light"
     }
    },
    {
     "output_type": "display_data",
     "data": {
      "text/plain": [
       "<Figure size 288x288 with 1 Axes>"
      ],
      "image/png": "[encoded data removed]"
     },
     "metadata": {
      "needs_background": "light"
     }
    },
    {
     "output_type": "display_data",
     "data": {
      "text/plain": [
       "<Figure size 288x288 with 1 Axes>"
      ],
      "image/png": "[encoded data removed]"
     },
     "metadata": {
      "needs_background": "light"
     }
    }
   ],
   "metadata": {}
  },
  {
   "cell_type": "markdown",
   "source": [
    "## Conclude\r\n",
    "\r\n",
    "* `potass` and `sodium` have the largest variability.\r\n",
    "* `rating`, `potass`, `vitamins` and `fiber` seems skewed.\r\n",
    "    * in `rating`, the only max value seems extreme\r\n",
    "    * in `potass`, the 2 max values seems extreme\r\n",
    "    * in `sodium`, the 11 min vlaues seems extreme\r\n",
    "    * in `calories`, the 3 min values seems extreme\r\n"
   ],
   "metadata": {}
  },
  {
   "cell_type": "markdown",
   "source": [
    "# Boxplot"
   ],
   "metadata": {}
  },
  {
   "cell_type": "code",
   "execution_count": 86,
   "source": [
    "import seaborn"
   ],
   "outputs": [],
   "metadata": {}
  },
  {
   "cell_type": "code",
   "execution_count": 113,
   "source": [
    "fig = seaborn.boxplot(\r\n",
    "    data=data,\r\n",
    "    x = \"shelf\",\r\n",
    "    y = \"rating\",\r\n",
    "    palette=[seaborn.xkcd_rgb[\"blue\"], seaborn.xkcd_rgb[\"green\"],seaborn.xkcd_rgb[\"yellow\"]],\r\n",
    "    showmeans=True,\r\n",
    "    notch = True\r\n",
    ")\r\n",
    "fig.set_title(\"bosplot statistic of rating to shelf\")\r\n",
    "fig.figure.savefig(\"figs/boxplot_rating_to_shelf\")\r\n",
    "plt.show()"
   ],
   "outputs": [
    {
     "output_type": "display_data",
     "data": {
      "text/plain": [
       "<Figure size 432x288 with 1 Axes>"
      ],
      "image/png": "[encoded data removed]"
     },
     "metadata": {
      "needs_background": "light"
     }
    }
   ],
   "metadata": {}
  },
  {
   "cell_type": "markdown",
   "source": [
    "# Correlation"
   ],
   "metadata": {}
  },
  {
   "cell_type": "code",
   "execution_count": 127,
   "source": [
    "corr = data.corr()\r\n",
    "corr"
   ],
   "outputs": [
    {
     "output_type": "execute_result",
     "data": {
      "text/plain": [
       "          calories   protein       fat    sodium     fiber     carbo  \\\n",
       "calories  1.000000  0.019066  0.498610  0.300649 -0.293413  0.257638   \n",
       "protein   0.019066  1.000000  0.208431 -0.054674  0.500330 -0.025012   \n",
       "fat       0.498610  0.208431  1.000000 -0.005407  0.016719 -0.300003   \n",
       "sodium    0.300649 -0.054674 -0.005407  1.000000 -0.070675  0.297687   \n",
       "fiber    -0.293413  0.500330  0.016719 -0.070675  1.000000 -0.380357   \n",
       "carbo     0.257638 -0.025012 -0.300003  0.297687 -0.380357  1.000000   \n",
       "sugars    0.566533 -0.291853  0.302497  0.058866 -0.138760 -0.471184   \n",
       "potass   -0.072063  0.563706  0.200445 -0.042632  0.911528 -0.365003   \n",
       "vitamins  0.265356  0.007335 -0.031156  0.361477 -0.032243  0.219202   \n",
       "shelf     0.097234  0.133865  0.263691 -0.069719  0.297539 -0.192650   \n",
       "weight    0.696091  0.216158  0.214625  0.308576  0.247226  0.138467   \n",
       "cups      0.087200 -0.244469 -0.175892  0.119665 -0.513061  0.367460   \n",
       "rating   -0.689376  0.470618 -0.409284 -0.401295  0.584160  0.088712   \n",
       "\n",
       "            sugars    potass  vitamins     shelf    weight      cups    rating  \n",
       "calories  0.566533 -0.072063  0.265356  0.097234  0.696091  0.087200 -0.689376  \n",
       "protein  -0.291853  0.563706  0.007335  0.133865  0.216158 -0.244469  0.470618  \n",
       "fat       0.302497  0.200445 -0.031156  0.263691  0.214625 -0.175892 -0.409284  \n",
       "sodium    0.058866 -0.042632  0.361477 -0.069719  0.308576  0.119665 -0.401295  \n",
       "fiber    -0.138760  0.911528 -0.032243  0.297539  0.247226 -0.513061  0.584160  \n",
       "carbo    -0.471184 -0.365003  0.219202 -0.192650  0.138467  0.367460  0.088712  \n",
       "sugars    1.000000  0.001414  0.098231  0.068377  0.455844 -0.048961 -0.763902  \n",
       "potass    0.001414  1.000000 -0.005427  0.385784  0.419933 -0.501607  0.416009  \n",
       "vitamins  0.098231 -0.005427  1.000000  0.299262  0.320324  0.128405 -0.240544  \n",
       "shelf     0.068377  0.385784  0.299262  1.000000  0.190762 -0.335269  0.025159  \n",
       "weight    0.455844  0.419933  0.320324  0.190762  1.000000 -0.199583 -0.298124  \n",
       "cups     -0.048961 -0.501607  0.128405 -0.335269 -0.199583  1.000000 -0.203160  \n",
       "rating   -0.763902  0.416009 -0.240544  0.025159 -0.298124 -0.203160  1.000000  "
      ],
      "text/html": [
       "<div>\n",
       "<style scoped>\n",
       "    .dataframe tbody tr th:only-of-type {\n",
       "        vertical-align: middle;\n",
       "    }\n",
       "\n",
       "    .dataframe tbody tr th {\n",
       "        vertical-align: top;\n",
       "    }\n",
       "\n",
       "    .dataframe thead th {\n",
       "        text-align: right;\n",
       "    }\n",
       "</style>\n",
       "<table border=\"1\" class=\"dataframe\">\n",
       "  <thead>\n",
       "    <tr style=\"text-align: right;\">\n",
       "      <th></th>\n",
       "      <th>calories</th>\n",
       "      <th>protein</th>\n",
       "      <th>fat</th>\n",
       "      <th>sodium</th>\n",
       "      <th>fiber</th>\n",
       "      <th>carbo</th>\n",
       "      <th>sugars</th>\n",
       "      <th>potass</th>\n",
       "      <th>vitamins</th>\n",
       "      <th>shelf</th>\n",
       "      <th>weight</th>\n",
       "      <th>cups</th>\n",
       "      <th>rating</th>\n",
       "    </tr>\n",
       "  </thead>\n",
       "  <tbody>\n",
       "    <tr>\n",
       "      <th>calories</th>\n",
       "      <td>1.000000</td>\n",
       "      <td>0.019066</td>\n",
       "      <td>0.498610</td>\n",
       "      <td>0.300649</td>\n",
       "      <td>-0.293413</td>\n",
       "      <td>0.257638</td>\n",
       "      <td>0.566533</td>\n",
       "      <td>-0.072063</td>\n",
       "      <td>0.265356</td>\n",
       "      <td>0.097234</td>\n",
       "      <td>0.696091</td>\n",
       "      <td>0.087200</td>\n",
       "      <td>-0.689376</td>\n",
       "    </tr>\n",
       "    <tr>\n",
       "      <th>protein</th>\n",
       "      <td>0.019066</td>\n",
       "      <td>1.000000</td>\n",
       "      <td>0.208431</td>\n",
       "      <td>-0.054674</td>\n",
       "      <td>0.500330</td>\n",
       "      <td>-0.025012</td>\n",
       "      <td>-0.291853</td>\n",
       "      <td>0.563706</td>\n",
       "      <td>0.007335</td>\n",
       "      <td>0.133865</td>\n",
       "      <td>0.216158</td>\n",
       "      <td>-0.244469</td>\n",
       "      <td>0.470618</td>\n",
       "    </tr>\n",
       "    <tr>\n",
       "      <th>fat</th>\n",
       "      <td>0.498610</td>\n",
       "      <td>0.208431</td>\n",
       "      <td>1.000000</td>\n",
       "      <td>-0.005407</td>\n",
       "      <td>0.016719</td>\n",
       "      <td>-0.300003</td>\n",
       "      <td>0.302497</td>\n",
       "      <td>0.200445</td>\n",
       "      <td>-0.031156</td>\n",
       "      <td>0.263691</td>\n",
       "      <td>0.214625</td>\n",
       "      <td>-0.175892</td>\n",
       "      <td>-0.409284</td>\n",
       "    </tr>\n",
       "    <tr>\n",
       "      <th>sodium</th>\n",
       "      <td>0.300649</td>\n",
       "      <td>-0.054674</td>\n",
       "      <td>-0.005407</td>\n",
       "      <td>1.000000</td>\n",
       "      <td>-0.070675</td>\n",
       "      <td>0.297687</td>\n",
       "      <td>0.058866</td>\n",
       "      <td>-0.042632</td>\n",
       "      <td>0.361477</td>\n",
       "      <td>-0.069719</td>\n",
       "      <td>0.308576</td>\n",
       "      <td>0.119665</td>\n",
       "      <td>-0.401295</td>\n",
       "    </tr>\n",
       "    <tr>\n",
       "      <th>fiber</th>\n",
       "      <td>-0.293413</td>\n",
       "      <td>0.500330</td>\n",
       "      <td>0.016719</td>\n",
       "      <td>-0.070675</td>\n",
       "      <td>1.000000</td>\n",
       "      <td>-0.380357</td>\n",
       "      <td>-0.138760</td>\n",
       "      <td>0.911528</td>\n",
       "      <td>-0.032243</td>\n",
       "      <td>0.297539</td>\n",
       "      <td>0.247226</td>\n",
       "      <td>-0.513061</td>\n",
       "      <td>0.584160</td>\n",
       "    </tr>\n",
       "    <tr>\n",
       "      <th>carbo</th>\n",
       "      <td>0.257638</td>\n",
       "      <td>-0.025012</td>\n",
       "      <td>-0.300003</td>\n",
       "      <td>0.297687</td>\n",
       "      <td>-0.380357</td>\n",
       "      <td>1.000000</td>\n",
       "      <td>-0.471184</td>\n",
       "      <td>-0.365003</td>\n",
       "      <td>0.219202</td>\n",
       "      <td>-0.192650</td>\n",
       "      <td>0.138467</td>\n",
       "      <td>0.367460</td>\n",
       "      <td>0.088712</td>\n",
       "    </tr>\n",
       "    <tr>\n",
       "      <th>sugars</th>\n",
       "      <td>0.566533</td>\n",
       "      <td>-0.291853</td>\n",
       "      <td>0.302497</td>\n",
       "      <td>0.058866</td>\n",
       "      <td>-0.138760</td>\n",
       "      <td>-0.471184</td>\n",
       "      <td>1.000000</td>\n",
       "      <td>0.001414</td>\n",
       "      <td>0.098231</td>\n",
       "      <td>0.068377</td>\n",
       "      <td>0.455844</td>\n",
       "      <td>-0.048961</td>\n",
       "      <td>-0.763902</td>\n",
       "    </tr>\n",
       "    <tr>\n",
       "      <th>potass</th>\n",
       "      <td>-0.072063</td>\n",
       "      <td>0.563706</td>\n",
       "      <td>0.200445</td>\n",
       "      <td>-0.042632</td>\n",
       "      <td>0.911528</td>\n",
       "      <td>-0.365003</td>\n",
       "      <td>0.001414</td>\n",
       "      <td>1.000000</td>\n",
       "      <td>-0.005427</td>\n",
       "      <td>0.385784</td>\n",
       "      <td>0.419933</td>\n",
       "      <td>-0.501607</td>\n",
       "      <td>0.416009</td>\n",
       "    </tr>\n",
       "    <tr>\n",
       "      <th>vitamins</th>\n",
       "      <td>0.265356</td>\n",
       "      <td>0.007335</td>\n",
       "      <td>-0.031156</td>\n",
       "      <td>0.361477</td>\n",
       "      <td>-0.032243</td>\n",
       "      <td>0.219202</td>\n",
       "      <td>0.098231</td>\n",
       "      <td>-0.005427</td>\n",
       "      <td>1.000000</td>\n",
       "      <td>0.299262</td>\n",
       "      <td>0.320324</td>\n",
       "      <td>0.128405</td>\n",
       "      <td>-0.240544</td>\n",
       "    </tr>\n",
       "    <tr>\n",
       "      <th>shelf</th>\n",
       "      <td>0.097234</td>\n",
       "      <td>0.133865</td>\n",
       "      <td>0.263691</td>\n",
       "      <td>-0.069719</td>\n",
       "      <td>0.297539</td>\n",
       "      <td>-0.192650</td>\n",
       "      <td>0.068377</td>\n",
       "      <td>0.385784</td>\n",
       "      <td>0.299262</td>\n",
       "      <td>1.000000</td>\n",
       "      <td>0.190762</td>\n",
       "      <td>-0.335269</td>\n",
       "      <td>0.025159</td>\n",
       "    </tr>\n",
       "    <tr>\n",
       "      <th>weight</th>\n",
       "      <td>0.696091</td>\n",
       "      <td>0.216158</td>\n",
       "      <td>0.214625</td>\n",
       "      <td>0.308576</td>\n",
       "      <td>0.247226</td>\n",
       "      <td>0.138467</td>\n",
       "      <td>0.455844</td>\n",
       "      <td>0.419933</td>\n",
       "      <td>0.320324</td>\n",
       "      <td>0.190762</td>\n",
       "      <td>1.000000</td>\n",
       "      <td>-0.199583</td>\n",
       "      <td>-0.298124</td>\n",
       "    </tr>\n",
       "    <tr>\n",
       "      <th>cups</th>\n",
       "      <td>0.087200</td>\n",
       "      <td>-0.244469</td>\n",
       "      <td>-0.175892</td>\n",
       "      <td>0.119665</td>\n",
       "      <td>-0.513061</td>\n",
       "      <td>0.367460</td>\n",
       "      <td>-0.048961</td>\n",
       "      <td>-0.501607</td>\n",
       "      <td>0.128405</td>\n",
       "      <td>-0.335269</td>\n",
       "      <td>-0.199583</td>\n",
       "      <td>1.000000</td>\n",
       "      <td>-0.203160</td>\n",
       "    </tr>\n",
       "    <tr>\n",
       "      <th>rating</th>\n",
       "      <td>-0.689376</td>\n",
       "      <td>0.470618</td>\n",
       "      <td>-0.409284</td>\n",
       "      <td>-0.401295</td>\n",
       "      <td>0.584160</td>\n",
       "      <td>0.088712</td>\n",
       "      <td>-0.763902</td>\n",
       "      <td>0.416009</td>\n",
       "      <td>-0.240544</td>\n",
       "      <td>0.025159</td>\n",
       "      <td>-0.298124</td>\n",
       "      <td>-0.203160</td>\n",
       "      <td>1.000000</td>\n",
       "    </tr>\n",
       "  </tbody>\n",
       "</table>\n",
       "</div>"
      ]
     },
     "metadata": {},
     "execution_count": 127
    }
   ],
   "metadata": {}
  },
  {
   "cell_type": "code",
   "execution_count": 132,
   "source": [
    "corr_abs = corr.applymap(lambda x:abs(x))\r\n",
    "seaborn.heatmap(data.corr().applymap(lambda x:abs(x)))"
   ],
   "outputs": [
    {
     "output_type": "execute_result",
     "data": {
      "text/plain": [
       "<AxesSubplot:>"
      ]
     },
     "metadata": {},
     "execution_count": 132
    },
    {
     "output_type": "display_data",
     "data": {
      "text/plain": [
       "<Figure size 432x288 with 2 Axes>"
      ],
      "image/png": "[encoded data removed]"
     },
     "metadata": {
      "needs_background": "light"
     }
    }
   ],
   "metadata": {}
  },
  {
   "cell_type": "code",
   "execution_count": 125,
   "source": [
    "data.corr()[\"rating\"]"
   ],
   "outputs": [
    {
     "output_type": "execute_result",
     "data": {
      "text/plain": [
       "calories   -0.689376\n",
       "protein     0.470618\n",
       "fat        -0.409284\n",
       "sodium     -0.401295\n",
       "fiber       0.584160\n",
       "carbo       0.088712\n",
       "sugars     -0.763902\n",
       "potass      0.416009\n",
       "vitamins   -0.240544\n",
       "shelf       0.025159\n",
       "weight     -0.298124\n",
       "cups       -0.203160\n",
       "rating      1.000000\n",
       "Name: rating, dtype: float64"
      ]
     },
     "metadata": {},
     "execution_count": 125
    }
   ],
   "metadata": {}
  },
  {
   "cell_type": "code",
   "execution_count": 142,
   "source": [
    "corr_abs[(corr_abs > 0.6) & (corr_abs != 1)]"
   ],
   "outputs": [
    {
     "output_type": "execute_result",
     "data": {
      "text/plain": [
       "          calories  protein  fat  sodium     fiber  carbo    sugars    potass  \\\n",
       "calories       NaN      NaN  NaN     NaN       NaN    NaN       NaN       NaN   \n",
       "protein        NaN      NaN  NaN     NaN       NaN    NaN       NaN       NaN   \n",
       "fat            NaN      NaN  NaN     NaN       NaN    NaN       NaN       NaN   \n",
       "sodium         NaN      NaN  NaN     NaN       NaN    NaN       NaN       NaN   \n",
       "fiber          NaN      NaN  NaN     NaN       NaN    NaN       NaN  0.911528   \n",
       "carbo          NaN      NaN  NaN     NaN       NaN    NaN       NaN       NaN   \n",
       "sugars         NaN      NaN  NaN     NaN       NaN    NaN       NaN       NaN   \n",
       "potass         NaN      NaN  NaN     NaN  0.911528    NaN       NaN       NaN   \n",
       "vitamins       NaN      NaN  NaN     NaN       NaN    NaN       NaN       NaN   \n",
       "shelf          NaN      NaN  NaN     NaN       NaN    NaN       NaN       NaN   \n",
       "weight    0.696091      NaN  NaN     NaN       NaN    NaN       NaN       NaN   \n",
       "cups           NaN      NaN  NaN     NaN       NaN    NaN       NaN       NaN   \n",
       "rating    0.689376      NaN  NaN     NaN       NaN    NaN  0.763902       NaN   \n",
       "\n",
       "          vitamins  shelf    weight  cups    rating  \n",
       "calories       NaN    NaN  0.696091   NaN  0.689376  \n",
       "protein        NaN    NaN       NaN   NaN       NaN  \n",
       "fat            NaN    NaN       NaN   NaN       NaN  \n",
       "sodium         NaN    NaN       NaN   NaN       NaN  \n",
       "fiber          NaN    NaN       NaN   NaN       NaN  \n",
       "carbo          NaN    NaN       NaN   NaN       NaN  \n",
       "sugars         NaN    NaN       NaN   NaN  0.763902  \n",
       "potass         NaN    NaN       NaN   NaN       NaN  \n",
       "vitamins       NaN    NaN       NaN   NaN       NaN  \n",
       "shelf          NaN    NaN       NaN   NaN       NaN  \n",
       "weight         NaN    NaN       NaN   NaN       NaN  \n",
       "cups           NaN    NaN       NaN   NaN       NaN  \n",
       "rating         NaN    NaN       NaN   NaN       NaN  "
      ],
      "text/html": [
       "<div>\n",
       "<style scoped>\n",
       "    .dataframe tbody tr th:only-of-type {\n",
       "        vertical-align: middle;\n",
       "    }\n",
       "\n",
       "    .dataframe tbody tr th {\n",
       "        vertical-align: top;\n",
       "    }\n",
       "\n",
       "    .dataframe thead th {\n",
       "        text-align: right;\n",
       "    }\n",
       "</style>\n",
       "<table border=\"1\" class=\"dataframe\">\n",
       "  <thead>\n",
       "    <tr style=\"text-align: right;\">\n",
       "      <th></th>\n",
       "      <th>calories</th>\n",
       "      <th>protein</th>\n",
       "      <th>fat</th>\n",
       "      <th>sodium</th>\n",
       "      <th>fiber</th>\n",
       "      <th>carbo</th>\n",
       "      <th>sugars</th>\n",
       "      <th>potass</th>\n",
       "      <th>vitamins</th>\n",
       "      <th>shelf</th>\n",
       "      <th>weight</th>\n",
       "      <th>cups</th>\n",
       "      <th>rating</th>\n",
       "    </tr>\n",
       "  </thead>\n",
       "  <tbody>\n",
       "    <tr>\n",
       "      <th>calories</th>\n",
       "      <td>NaN</td>\n",
       "      <td>NaN</td>\n",
       "      <td>NaN</td>\n",
       "      <td>NaN</td>\n",
       "      <td>NaN</td>\n",
       "      <td>NaN</td>\n",
       "      <td>NaN</td>\n",
       "      <td>NaN</td>\n",
       "      <td>NaN</td>\n",
       "      <td>NaN</td>\n",
       "      <td>0.696091</td>\n",
       "      <td>NaN</td>\n",
       "      <td>0.689376</td>\n",
       "    </tr>\n",
       "    <tr>\n",
       "      <th>protein</th>\n",
       "      <td>NaN</td>\n",
       "      <td>NaN</td>\n",
       "      <td>NaN</td>\n",
       "      <td>NaN</td>\n",
       "      <td>NaN</td>\n",
       "      <td>NaN</td>\n",
       "      <td>NaN</td>\n",
       "      <td>NaN</td>\n",
       "      <td>NaN</td>\n",
       "      <td>NaN</td>\n",
       "      <td>NaN</td>\n",
       "      <td>NaN</td>\n",
       "      <td>NaN</td>\n",
       "    </tr>\n",
       "    <tr>\n",
       "      <th>fat</th>\n",
       "      <td>NaN</td>\n",
       "      <td>NaN</td>\n",
       "      <td>NaN</td>\n",
       "      <td>NaN</td>\n",
       "      <td>NaN</td>\n",
       "      <td>NaN</td>\n",
       "      <td>NaN</td>\n",
       "      <td>NaN</td>\n",
       "      <td>NaN</td>\n",
       "      <td>NaN</td>\n",
       "      <td>NaN</td>\n",
       "      <td>NaN</td>\n",
       "      <td>NaN</td>\n",
       "    </tr>\n",
       "    <tr>\n",
       "      <th>sodium</th>\n",
       "      <td>NaN</td>\n",
       "      <td>NaN</td>\n",
       "      <td>NaN</td>\n",
       "      <td>NaN</td>\n",
       "      <td>NaN</td>\n",
       "      <td>NaN</td>\n",
       "      <td>NaN</td>\n",
       "      <td>NaN</td>\n",
       "      <td>NaN</td>\n",
       "      <td>NaN</td>\n",
       "      <td>NaN</td>\n",
       "      <td>NaN</td>\n",
       "      <td>NaN</td>\n",
       "    </tr>\n",
       "    <tr>\n",
       "      <th>fiber</th>\n",
       "      <td>NaN</td>\n",
       "      <td>NaN</td>\n",
       "      <td>NaN</td>\n",
       "      <td>NaN</td>\n",
       "      <td>NaN</td>\n",
       "      <td>NaN</td>\n",
       "      <td>NaN</td>\n",
       "      <td>0.911528</td>\n",
       "      <td>NaN</td>\n",
       "      <td>NaN</td>\n",
       "      <td>NaN</td>\n",
       "      <td>NaN</td>\n",
       "      <td>NaN</td>\n",
       "    </tr>\n",
       "    <tr>\n",
       "      <th>carbo</th>\n",
       "      <td>NaN</td>\n",
       "      <td>NaN</td>\n",
       "      <td>NaN</td>\n",
       "      <td>NaN</td>\n",
       "      <td>NaN</td>\n",
       "      <td>NaN</td>\n",
       "      <td>NaN</td>\n",
       "      <td>NaN</td>\n",
       "      <td>NaN</td>\n",
       "      <td>NaN</td>\n",
       "      <td>NaN</td>\n",
       "      <td>NaN</td>\n",
       "      <td>NaN</td>\n",
       "    </tr>\n",
       "    <tr>\n",
       "      <th>sugars</th>\n",
       "      <td>NaN</td>\n",
       "      <td>NaN</td>\n",
       "      <td>NaN</td>\n",
       "      <td>NaN</td>\n",
       "      <td>NaN</td>\n",
       "      <td>NaN</td>\n",
       "      <td>NaN</td>\n",
       "      <td>NaN</td>\n",
       "      <td>NaN</td>\n",
       "      <td>NaN</td>\n",
       "      <td>NaN</td>\n",
       "      <td>NaN</td>\n",
       "      <td>0.763902</td>\n",
       "    </tr>\n",
       "    <tr>\n",
       "      <th>potass</th>\n",
       "      <td>NaN</td>\n",
       "      <td>NaN</td>\n",
       "      <td>NaN</td>\n",
       "      <td>NaN</td>\n",
       "      <td>0.911528</td>\n",
       "      <td>NaN</td>\n",
       "      <td>NaN</td>\n",
       "      <td>NaN</td>\n",
       "      <td>NaN</td>\n",
       "      <td>NaN</td>\n",
       "      <td>NaN</td>\n",
       "      <td>NaN</td>\n",
       "      <td>NaN</td>\n",
       "    </tr>\n",
       "    <tr>\n",
       "      <th>vitamins</th>\n",
       "      <td>NaN</td>\n",
       "      <td>NaN</td>\n",
       "      <td>NaN</td>\n",
       "      <td>NaN</td>\n",
       "      <td>NaN</td>\n",
       "      <td>NaN</td>\n",
       "      <td>NaN</td>\n",
       "      <td>NaN</td>\n",
       "      <td>NaN</td>\n",
       "      <td>NaN</td>\n",
       "      <td>NaN</td>\n",
       "      <td>NaN</td>\n",
       "      <td>NaN</td>\n",
       "    </tr>\n",
       "    <tr>\n",
       "      <th>shelf</th>\n",
       "      <td>NaN</td>\n",
       "      <td>NaN</td>\n",
       "      <td>NaN</td>\n",
       "      <td>NaN</td>\n",
       "      <td>NaN</td>\n",
       "      <td>NaN</td>\n",
       "      <td>NaN</td>\n",
       "      <td>NaN</td>\n",
       "      <td>NaN</td>\n",
       "      <td>NaN</td>\n",
       "      <td>NaN</td>\n",
       "      <td>NaN</td>\n",
       "      <td>NaN</td>\n",
       "    </tr>\n",
       "    <tr>\n",
       "      <th>weight</th>\n",
       "      <td>0.696091</td>\n",
       "      <td>NaN</td>\n",
       "      <td>NaN</td>\n",
       "      <td>NaN</td>\n",
       "      <td>NaN</td>\n",
       "      <td>NaN</td>\n",
       "      <td>NaN</td>\n",
       "      <td>NaN</td>\n",
       "      <td>NaN</td>\n",
       "      <td>NaN</td>\n",
       "      <td>NaN</td>\n",
       "      <td>NaN</td>\n",
       "      <td>NaN</td>\n",
       "    </tr>\n",
       "    <tr>\n",
       "      <th>cups</th>\n",
       "      <td>NaN</td>\n",
       "      <td>NaN</td>\n",
       "      <td>NaN</td>\n",
       "      <td>NaN</td>\n",
       "      <td>NaN</td>\n",
       "      <td>NaN</td>\n",
       "      <td>NaN</td>\n",
       "      <td>NaN</td>\n",
       "      <td>NaN</td>\n",
       "      <td>NaN</td>\n",
       "      <td>NaN</td>\n",
       "      <td>NaN</td>\n",
       "      <td>NaN</td>\n",
       "    </tr>\n",
       "    <tr>\n",
       "      <th>rating</th>\n",
       "      <td>0.689376</td>\n",
       "      <td>NaN</td>\n",
       "      <td>NaN</td>\n",
       "      <td>NaN</td>\n",
       "      <td>NaN</td>\n",
       "      <td>NaN</td>\n",
       "      <td>0.763902</td>\n",
       "      <td>NaN</td>\n",
       "      <td>NaN</td>\n",
       "      <td>NaN</td>\n",
       "      <td>NaN</td>\n",
       "      <td>NaN</td>\n",
       "      <td>NaN</td>\n",
       "    </tr>\n",
       "  </tbody>\n",
       "</table>\n",
       "</div>"
      ]
     },
     "metadata": {},
     "execution_count": 142
    }
   ],
   "metadata": {}
  },
  {
   "cell_type": "code",
   "execution_count": 180,
   "source": [
    "from sklearn.preprocessing import Normalizer\r\n",
    "from sklearn.preprocessing import LabelEncoder\r\n",
    "from sklearn.impute import SimpleImputer\r\n",
    "from sklearn.preprocessing import MinMaxScaler\r\n",
    "\r\n",
    "data_norm = data.drop(\"name\",axis=1,inplace=False)\r\n",
    "label_encoder = LabelEncoder()\r\n",
    "for col in data_norm.columns:\r\n",
    "    if data_norm[col].dtype == \"object\":\r\n",
    "        data_norm[col] = label_encoder.fit_transform(data_norm[col])\r\n",
    "imputer = SimpleImputer(strategy='mean')\r\n",
    "data_norm_values = imputer.fit_transform(data_norm)\r\n",
    "data_norm = pandas.DataFrame(data_norm_values,columns=data_norm.columns)\r\n",
    "data_scaled_values = MinMaxScaler().fit_transform(data_norm)\r\n",
    "data_scaled = pandas.DataFrame(data_scaled_values,columns=data_norm.columns)\r\n",
    "data_norm_values = Normalizer().fit_transform(data_norm)\r\n",
    "data_norm = pandas.DataFrame(data_norm_values,columns=data_norm.columns)"
   ],
   "outputs": [],
   "metadata": {}
  },
  {
   "cell_type": "code",
   "execution_count": 182,
   "source": [
    "print(data_norm)\r\n",
    "print(data_scaled)"
   ],
   "outputs": [
    {
     "output_type": "stream",
     "name": "stdout",
     "text": [
      "         mfr  type  calories   protein       fat    sodium     fiber  \\\n",
      "0   0.009227   0.0  0.215307  0.012303  0.003076  0.399856  0.030758   \n",
      "1   0.027034   0.0  0.648820  0.016221  0.027034  0.081103  0.010814   \n",
      "2   0.004724   0.0  0.165340  0.009448  0.002362  0.614119  0.021258   \n",
      "3   0.005332   0.0  0.133300  0.010664  0.000000  0.373239  0.037324   \n",
      "4   0.023725   0.0  0.434956  0.007908  0.007908  0.790829  0.003954   \n",
      "..       ...   ...       ...       ...       ...       ...       ...   \n",
      "72  0.003518   0.0  0.386929  0.007035  0.003518  0.879383  0.000000   \n",
      "73  0.005420   0.0  0.596188  0.005420  0.005420  0.758785  0.000000   \n",
      "74  0.021269   0.0  0.354476  0.010634  0.003545  0.815294  0.010634   \n",
      "75  0.003901   0.0  0.390114  0.011703  0.003901  0.780228  0.011703   \n",
      "76  0.004154   0.0  0.456892  0.008307  0.004154  0.830712  0.004154   \n",
      "\n",
      "       carbo    sugars    potass  vitamins     shelf    weight      cups  \\\n",
      "0   0.015379  0.018455  0.861228  0.076895  0.009227  0.003076  0.001015   \n",
      "1   0.043255  0.043255  0.729923  0.000000  0.016221  0.005407  0.005407   \n",
      "2   0.016534  0.011810  0.755839  0.059050  0.007086  0.002362  0.000779   \n",
      "3   0.021328  0.000000  0.879778  0.066650  0.007998  0.002666  0.001333   \n",
      "4   0.055358  0.031633  0.390142  0.098854  0.011862  0.003954  0.002966   \n",
      "..       ...       ...       ...       ...       ...       ...       ...   \n",
      "72  0.073868  0.010553  0.211052  0.087938  0.010553  0.003518  0.002638   \n",
      "73  0.070459  0.065039  0.135497  0.135497  0.010840  0.005420  0.005420   \n",
      "74  0.060261  0.010634  0.407647  0.088619  0.003545  0.003545  0.002375   \n",
      "75  0.066319  0.011703  0.429126  0.097529  0.003901  0.003901  0.003901   \n",
      "76  0.066457  0.033228  0.249214  0.103839  0.004154  0.004154  0.003115   \n",
      "\n",
      "      rating  \n",
      "0   0.210395  \n",
      "1   0.183744  \n",
      "2   0.140363  \n",
      "3   0.249817  \n",
      "4   0.135963  \n",
      "..       ...  \n",
      "72  0.137557  \n",
      "73  0.150420  \n",
      "74  0.176484  \n",
      "75  0.201268  \n",
      "76  0.150307  \n",
      "\n",
      "[77 rows x 15 columns]\n",
      "         mfr  type  calories  protein  fat    sodium     fiber     carbo  \\\n",
      "0   0.500000   0.0  0.181818      0.6  0.2  0.406250  0.714286  0.000000   \n",
      "1   0.833333   0.0  0.636364      0.4  1.0  0.046875  0.142857  0.166667   \n",
      "2   0.333333   0.0  0.181818      0.6  0.2  0.812500  0.642857  0.111111   \n",
      "3   0.333333   0.0  0.000000      0.6  0.0  0.437500  1.000000  0.166667   \n",
      "4   1.000000   0.0  0.545455      0.2  0.4  0.625000  0.071429  0.500000   \n",
      "..       ...   ...       ...      ...  ...       ...       ...       ...   \n",
      "72  0.166667   0.0  0.545455      0.2  0.2  0.781250  0.000000  0.888889   \n",
      "73  0.166667   0.0  0.545455      0.0  0.2  0.437500  0.000000  0.444444   \n",
      "74  1.000000   0.0  0.454545      0.4  0.2  0.718750  0.214286  0.666667   \n",
      "75  0.166667   0.0  0.454545      0.4  0.2  0.625000  0.214286  0.666667   \n",
      "76  0.166667   0.0  0.545455      0.2  0.2  0.625000  0.071429  0.611111   \n",
      "\n",
      "      sugars    potass  vitamins  shelf  weight   cups    rating  \n",
      "0   0.400000  0.841270      0.25    1.0     0.5  0.064  0.665593  \n",
      "1   0.533333  0.380952      0.00    1.0     0.5  0.600  0.210685  \n",
      "2   0.333333  0.968254      0.25    1.0     0.5  0.064  0.546941  \n",
      "3   0.000000  1.000000      0.25    1.0     0.5  0.200  1.000000  \n",
      "4   0.533333  0.265608      0.25    1.0     0.5  0.400  0.215987  \n",
      "..       ...       ...       ...    ...     ...    ...       ...  \n",
      "72  0.200000  0.142857      0.25    1.0     0.5  0.400  0.278387  \n",
      "73  0.800000  0.031746      0.25    0.5     0.5  0.600  0.128340  \n",
      "74  0.200000  0.317460      0.25    0.0     0.5  0.336  0.419558  \n",
      "75  0.200000  0.301587      0.25    0.0     0.5  0.600  0.443410  \n",
      "76  0.533333  0.142857      0.25    0.0     0.5  0.400  0.239812  \n",
      "\n",
      "[77 rows x 15 columns]\n"
     ]
    }
   ],
   "metadata": {}
  },
  {
   "cell_type": "code",
   "execution_count": 186,
   "source": [
    "def statistic(df):\r\n",
    "    for col in df.columns:\r\n",
    "        datas = df[col].values\r\n",
    "        interval = 0.1\r\n",
    "        histo(datas,interval,col,False)"
   ],
   "outputs": [],
   "metadata": {}
  },
  {
   "cell_type": "code",
   "execution_count": 187,
   "source": [
    "statistic(data_norm)\r\n",
    "statistic(data_scaled)"
   ],
   "outputs": [
    {
     "output_type": "display_data",
     "data": {
      "text/plain": [
       "<Figure size 288x288 with 1 Axes>"
      ],
      "image/png": "[encoded data removed]"
     },
     "metadata": {
      "needs_background": "light"
     }
    },
    {
     "output_type": "display_data",
     "data": {
      "text/plain": [
       "<Figure size 288x288 with 1 Axes>"
      ],
      "image/png": "[encoded data removed]"
     },
     "metadata": {
      "needs_background": "light"
     }
    },
    {
     "output_type": "display_data",
     "data": {
      "text/plain": [
       "<Figure size 288x288 with 1 Axes>"
      ],
      "image/png": "[encoded data removed]"
     },
     "metadata": {
      "needs_background": "light"
     }
    },
    {
     "output_type": "display_data",
     "data": {
      "text/plain": [
       "<Figure size 288x288 with 1 Axes>"
      ],
      "image/png": "[encoded data removed]"
     },
     "metadata": {
      "needs_background": "light"
     }
    },
    {
     "output_type": "display_data",
     "data": {
      "text/plain": [
       "<Figure size 288x288 with 1 Axes>"
      ],
      "image/png": "[encoded data removed]"
     },
     "metadata": {
      "needs_background": "light"
     }
    },
    {
     "output_type": "display_data",
     "data": {
      "text/plain": [
       "<Figure size 288x288 with 1 Axes>"
      ],
      "image/png": "[encoded data removed]"
     },
     "metadata": {
      "needs_background": "light"
     }
    },
    {
     "output_type": "display_data",
     "data": {
      "text/plain": [
       "<Figure size 288x288 with 1 Axes>"
      ],
      "image/png": "[encoded data removed]"
     },
     "metadata": {
      "needs_background": "light"
     }
    },
    {
     "output_type": "display_data",
     "data": {
      "text/plain": [
       "<Figure size 288x288 with 1 Axes>"
      ],
      "image/png": "[encoded data removed]"
     },
     "metadata": {
      "needs_background": "light"
     }
    },
    {
     "output_type": "display_data",
     "data": {
      "text/plain": [
       "<Figure size 288x288 with 1 Axes>"
      ],
      "image/png": "[encoded data removed]"
     },
     "metadata": {
      "needs_background": "light"
     }
    },
    {
     "output_type": "display_data",
     "data": {
      "text/plain": [
       "<Figure size 288x288 with 1 Axes>"
      ],
      "image/png": "[encoded data removed]"
     },
     "metadata": {
      "needs_background": "light"
     }
    },
    {
     "output_type": "display_data",
     "data": {
      "text/plain": [
       "<Figure size 288x288 with 1 Axes>"
      ],
      "image/png": "[encoded data removed]"
     },
     "metadata": {
      "needs_background": "light"
     }
    },
    {
     "output_type": "display_data",
     "data": {
      "text/plain": [
       "<Figure size 288x288 with 1 Axes>"
      ],
      "image/png": "[encoded data removed]"
     },
     "metadata": {
      "needs_background": "light"
     }
    },
    {
     "output_type": "display_data",
     "data": {
      "text/plain": [
       "<Figure size 288x288 with 1 Axes>"
      ],
      "image/png": "[encoded data removed]"
     },
     "metadata": {
      "needs_background": "light"
     }
    },
    {
     "output_type": "display_data",
     "data": {
      "text/plain": [
       "<Figure size 288x288 with 1 Axes>"
      ],
      "image/png": "[encoded data removed]"
     },
     "metadata": {
      "needs_background": "light"
     }
    },
    {
     "output_type": "display_data",
     "data": {
      "text/plain": [
       "<Figure size 288x288 with 1 Axes>"
      ],
      "image/png": "[encoded data removed]"
     },
     "metadata": {
      "needs_background": "light"
     }
    },
    {
     "output_type": "display_data",
     "data": {
      "text/plain": [
       "<Figure size 288x288 with 1 Axes>"
      ],
      "image/png": "[encoded data removed]"
     },
     "metadata": {
      "needs_background": "light"
     }
    },
    {
     "output_type": "display_data",
     "data": {
      "text/plain": [
       "<Figure size 288x288 with 1 Axes>"
      ],
      "image/png": "[encoded data removed]"
     },
     "metadata": {
      "needs_background": "light"
     }
    },
    {
     "output_type": "display_data",
     "data": {
      "text/plain": [
       "<Figure size 288x288 with 1 Axes>"
      ],
      "image/png": "[encoded data removed]"
     },
     "metadata": {
      "needs_background": "light"
     }
    },
    {
     "output_type": "display_data",
     "data": {
      "text/plain": [
       "<Figure size 288x288 with 1 Axes>"
      ],
      "image/png": "[encoded data removed]"
     },
     "metadata": {
      "needs_background": "light"
     }
    },
    {
     "output_type": "display_data",
     "data": {
      "text/plain": [
       "<Figure size 288x288 with 1 Axes>"
      ],
      "image/png": "[encoded data removed]"
     },
     "metadata": {
      "needs_background": "light"
     }
    },
    {
     "output_type": "display_data",
     "data": {
      "text/plain": [
       "<Figure size 288x288 with 1 Axes>"
      ],
      "image/png": "[encoded data removed]"
     },
     "metadata": {
      "needs_background": "light"
     }
    },
    {
     "output_type": "display_data",
     "data": {
      "text/plain": [
       "<Figure size 288x288 with 1 Axes>"
      ],
      "image/png": "[encoded data removed]"
     },
     "metadata": {
      "needs_background": "light"
     }
    },
    {
     "output_type": "display_data",
     "data": {
      "text/plain": [
       "<Figure size 288x288 with 1 Axes>"
      ],
      "image/png": "[encoded data removed]"
     },
     "metadata": {
      "needs_background": "light"
     }
    },
    {
     "output_type": "display_data",
     "data": {
      "text/plain": [
       "<Figure size 288x288 with 1 Axes>"
      ],
      "image/png": "[encoded data removed]"
     },
     "metadata": {
      "needs_background": "light"
     }
    },
    {
     "output_type": "display_data",
     "data": {
      "text/plain": [
       "<Figure size 288x288 with 1 Axes>"
      ],
      "image/png": "[encoded data removed]"
     },
     "metadata": {
      "needs_background": "light"
     }
    },
    {
     "output_type": "display_data",
     "data": {
      "text/plain": [
       "<Figure size 288x288 with 1 Axes>"
      ],
      "image/png": "[encoded data removed]"
     },
     "metadata": {
      "needs_background": "light"
     }
    },
    {
     "output_type": "display_data",
     "data": {
      "text/plain": [
       "<Figure size 288x288 with 1 Axes>"
      ],
      "image/png": "[encoded data removed]"
     },
     "metadata": {
      "needs_background": "light"
     }
    },
    {
     "output_type": "display_data",
     "data": {
      "text/plain": [
       "<Figure size 288x288 with 1 Axes>"
      ],
      "image/png": "[encoded data removed]"
     },
     "metadata": {
      "needs_background": "light"
     }
    },
    {
     "output_type": "display_data",
     "data": {
      "text/plain": [
       "<Figure size 288x288 with 1 Axes>"
      ],
      "image/png": "[encoded data removed]"
     },
     "metadata": {
      "needs_background": "light"
     }
    },
    {
     "output_type": "display_data",
     "data": {
      "text/plain": [
       "<Figure size 288x288 with 1 Axes>"
      ],
      "image/png": "[encoded data removed]"
     },
     "metadata": {
      "needs_background": "light"
     }
    }
   ],
   "metadata": {}
  },
  {
   "cell_type": "code",
   "execution_count": 189,
   "source": [
    "corr = data_norm.corr()\r\n",
    "corr_abs = corr.applymap(lambda x: abs(x))\r\n",
    "corr_abs[(corr_abs > 0.6) & (corr_abs != 1)]"
   ],
   "outputs": [
    {
     "output_type": "execute_result",
     "data": {
      "text/plain": [
       "               mfr  type  calories   protein  fat    sodium     fiber  \\\n",
       "mfr            NaN   NaN       NaN       NaN  NaN       NaN       NaN   \n",
       "type           NaN   NaN       NaN       NaN  NaN       NaN       NaN   \n",
       "calories       NaN   NaN       NaN       NaN  NaN       NaN       NaN   \n",
       "protein        NaN   NaN       NaN       NaN  NaN  0.664693       NaN   \n",
       "fat            NaN   NaN       NaN       NaN  NaN       NaN       NaN   \n",
       "sodium         NaN   NaN       NaN  0.664693  NaN       NaN       NaN   \n",
       "fiber          NaN   NaN       NaN       NaN  NaN       NaN       NaN   \n",
       "carbo          NaN   NaN       NaN       NaN  NaN       NaN       NaN   \n",
       "sugars         NaN   NaN  0.604644       NaN  NaN       NaN       NaN   \n",
       "potass         NaN   NaN       NaN       NaN  NaN  0.668580  0.846487   \n",
       "vitamins       NaN   NaN       NaN       NaN  NaN       NaN       NaN   \n",
       "shelf          NaN   NaN       NaN       NaN  NaN       NaN       NaN   \n",
       "weight         NaN   NaN  0.906701       NaN  NaN  0.643739       NaN   \n",
       "cups           NaN   NaN       NaN       NaN  NaN       NaN       NaN   \n",
       "rating    0.659749   NaN       NaN       NaN  NaN  0.784847       NaN   \n",
       "\n",
       "             carbo    sugars    potass  vitamins     shelf    weight  \\\n",
       "mfr            NaN       NaN       NaN       NaN       NaN       NaN   \n",
       "type           NaN       NaN       NaN       NaN       NaN       NaN   \n",
       "calories       NaN  0.604644       NaN       NaN       NaN  0.906701   \n",
       "protein        NaN       NaN       NaN       NaN       NaN       NaN   \n",
       "fat            NaN       NaN       NaN       NaN       NaN       NaN   \n",
       "sodium         NaN       NaN  0.668580       NaN       NaN  0.643739   \n",
       "fiber          NaN       NaN  0.846487       NaN       NaN       NaN   \n",
       "carbo          NaN       NaN       NaN       NaN       NaN  0.627482   \n",
       "sugars         NaN       NaN       NaN       NaN       NaN       NaN   \n",
       "potass         NaN       NaN       NaN       NaN       NaN       NaN   \n",
       "vitamins       NaN       NaN       NaN       NaN       NaN       NaN   \n",
       "shelf          NaN       NaN       NaN       NaN       NaN       NaN   \n",
       "weight    0.627482       NaN       NaN       NaN       NaN       NaN   \n",
       "cups      0.710034       NaN       NaN       NaN       NaN       NaN   \n",
       "rating    0.775616       NaN       NaN       NaN  0.621961       NaN   \n",
       "\n",
       "              cups    rating  \n",
       "mfr            NaN  0.659749  \n",
       "type           NaN       NaN  \n",
       "calories       NaN       NaN  \n",
       "protein        NaN       NaN  \n",
       "fat            NaN       NaN  \n",
       "sodium         NaN  0.784847  \n",
       "fiber          NaN       NaN  \n",
       "carbo     0.710034  0.775616  \n",
       "sugars         NaN       NaN  \n",
       "potass         NaN       NaN  \n",
       "vitamins       NaN       NaN  \n",
       "shelf          NaN  0.621961  \n",
       "weight         NaN       NaN  \n",
       "cups           NaN  0.689927  \n",
       "rating    0.689927       NaN  "
      ],
      "text/html": [
       "<div>\n",
       "<style scoped>\n",
       "    .dataframe tbody tr th:only-of-type {\n",
       "        vertical-align: middle;\n",
       "    }\n",
       "\n",
       "    .dataframe tbody tr th {\n",
       "        vertical-align: top;\n",
       "    }\n",
       "\n",
       "    .dataframe thead th {\n",
       "        text-align: right;\n",
       "    }\n",
       "</style>\n",
       "<table border=\"1\" class=\"dataframe\">\n",
       "  <thead>\n",
       "    <tr style=\"text-align: right;\">\n",
       "      <th></th>\n",
       "      <th>mfr</th>\n",
       "      <th>type</th>\n",
       "      <th>calories</th>\n",
       "      <th>protein</th>\n",
       "      <th>fat</th>\n",
       "      <th>sodium</th>\n",
       "      <th>fiber</th>\n",
       "      <th>carbo</th>\n",
       "      <th>sugars</th>\n",
       "      <th>potass</th>\n",
       "      <th>vitamins</th>\n",
       "      <th>shelf</th>\n",
       "      <th>weight</th>\n",
       "      <th>cups</th>\n",
       "      <th>rating</th>\n",
       "    </tr>\n",
       "  </thead>\n",
       "  <tbody>\n",
       "    <tr>\n",
       "      <th>mfr</th>\n",
       "      <td>NaN</td>\n",
       "      <td>NaN</td>\n",
       "      <td>NaN</td>\n",
       "      <td>NaN</td>\n",
       "      <td>NaN</td>\n",
       "      <td>NaN</td>\n",
       "      <td>NaN</td>\n",
       "      <td>NaN</td>\n",
       "      <td>NaN</td>\n",
       "      <td>NaN</td>\n",
       "      <td>NaN</td>\n",
       "      <td>NaN</td>\n",
       "      <td>NaN</td>\n",
       "      <td>NaN</td>\n",
       "      <td>0.659749</td>\n",
       "    </tr>\n",
       "    <tr>\n",
       "      <th>type</th>\n",
       "      <td>NaN</td>\n",
       "      <td>NaN</td>\n",
       "      <td>NaN</td>\n",
       "      <td>NaN</td>\n",
       "      <td>NaN</td>\n",
       "      <td>NaN</td>\n",
       "      <td>NaN</td>\n",
       "      <td>NaN</td>\n",
       "      <td>NaN</td>\n",
       "      <td>NaN</td>\n",
       "      <td>NaN</td>\n",
       "      <td>NaN</td>\n",
       "      <td>NaN</td>\n",
       "      <td>NaN</td>\n",
       "      <td>NaN</td>\n",
       "    </tr>\n",
       "    <tr>\n",
       "      <th>calories</th>\n",
       "      <td>NaN</td>\n",
       "      <td>NaN</td>\n",
       "      <td>NaN</td>\n",
       "      <td>NaN</td>\n",
       "      <td>NaN</td>\n",
       "      <td>NaN</td>\n",
       "      <td>NaN</td>\n",
       "      <td>NaN</td>\n",
       "      <td>0.604644</td>\n",
       "      <td>NaN</td>\n",
       "      <td>NaN</td>\n",
       "      <td>NaN</td>\n",
       "      <td>0.906701</td>\n",
       "      <td>NaN</td>\n",
       "      <td>NaN</td>\n",
       "    </tr>\n",
       "    <tr>\n",
       "      <th>protein</th>\n",
       "      <td>NaN</td>\n",
       "      <td>NaN</td>\n",
       "      <td>NaN</td>\n",
       "      <td>NaN</td>\n",
       "      <td>NaN</td>\n",
       "      <td>0.664693</td>\n",
       "      <td>NaN</td>\n",
       "      <td>NaN</td>\n",
       "      <td>NaN</td>\n",
       "      <td>NaN</td>\n",
       "      <td>NaN</td>\n",
       "      <td>NaN</td>\n",
       "      <td>NaN</td>\n",
       "      <td>NaN</td>\n",
       "      <td>NaN</td>\n",
       "    </tr>\n",
       "    <tr>\n",
       "      <th>fat</th>\n",
       "      <td>NaN</td>\n",
       "      <td>NaN</td>\n",
       "      <td>NaN</td>\n",
       "      <td>NaN</td>\n",
       "      <td>NaN</td>\n",
       "      <td>NaN</td>\n",
       "      <td>NaN</td>\n",
       "      <td>NaN</td>\n",
       "      <td>NaN</td>\n",
       "      <td>NaN</td>\n",
       "      <td>NaN</td>\n",
       "      <td>NaN</td>\n",
       "      <td>NaN</td>\n",
       "      <td>NaN</td>\n",
       "      <td>NaN</td>\n",
       "    </tr>\n",
       "    <tr>\n",
       "      <th>sodium</th>\n",
       "      <td>NaN</td>\n",
       "      <td>NaN</td>\n",
       "      <td>NaN</td>\n",
       "      <td>0.664693</td>\n",
       "      <td>NaN</td>\n",
       "      <td>NaN</td>\n",
       "      <td>NaN</td>\n",
       "      <td>NaN</td>\n",
       "      <td>NaN</td>\n",
       "      <td>0.668580</td>\n",
       "      <td>NaN</td>\n",
       "      <td>NaN</td>\n",
       "      <td>0.643739</td>\n",
       "      <td>NaN</td>\n",
       "      <td>0.784847</td>\n",
       "    </tr>\n",
       "    <tr>\n",
       "      <th>fiber</th>\n",
       "      <td>NaN</td>\n",
       "      <td>NaN</td>\n",
       "      <td>NaN</td>\n",
       "      <td>NaN</td>\n",
       "      <td>NaN</td>\n",
       "      <td>NaN</td>\n",
       "      <td>NaN</td>\n",
       "      <td>NaN</td>\n",
       "      <td>NaN</td>\n",
       "      <td>0.846487</td>\n",
       "      <td>NaN</td>\n",
       "      <td>NaN</td>\n",
       "      <td>NaN</td>\n",
       "      <td>NaN</td>\n",
       "      <td>NaN</td>\n",
       "    </tr>\n",
       "    <tr>\n",
       "      <th>carbo</th>\n",
       "      <td>NaN</td>\n",
       "      <td>NaN</td>\n",
       "      <td>NaN</td>\n",
       "      <td>NaN</td>\n",
       "      <td>NaN</td>\n",
       "      <td>NaN</td>\n",
       "      <td>NaN</td>\n",
       "      <td>NaN</td>\n",
       "      <td>NaN</td>\n",
       "      <td>NaN</td>\n",
       "      <td>NaN</td>\n",
       "      <td>NaN</td>\n",
       "      <td>0.627482</td>\n",
       "      <td>0.710034</td>\n",
       "      <td>0.775616</td>\n",
       "    </tr>\n",
       "    <tr>\n",
       "      <th>sugars</th>\n",
       "      <td>NaN</td>\n",
       "      <td>NaN</td>\n",
       "      <td>0.604644</td>\n",
       "      <td>NaN</td>\n",
       "      <td>NaN</td>\n",
       "      <td>NaN</td>\n",
       "      <td>NaN</td>\n",
       "      <td>NaN</td>\n",
       "      <td>NaN</td>\n",
       "      <td>NaN</td>\n",
       "      <td>NaN</td>\n",
       "      <td>NaN</td>\n",
       "      <td>NaN</td>\n",
       "      <td>NaN</td>\n",
       "      <td>NaN</td>\n",
       "    </tr>\n",
       "    <tr>\n",
       "      <th>potass</th>\n",
       "      <td>NaN</td>\n",
       "      <td>NaN</td>\n",
       "      <td>NaN</td>\n",
       "      <td>NaN</td>\n",
       "      <td>NaN</td>\n",
       "      <td>0.668580</td>\n",
       "      <td>0.846487</td>\n",
       "      <td>NaN</td>\n",
       "      <td>NaN</td>\n",
       "      <td>NaN</td>\n",
       "      <td>NaN</td>\n",
       "      <td>NaN</td>\n",
       "      <td>NaN</td>\n",
       "      <td>NaN</td>\n",
       "      <td>NaN</td>\n",
       "    </tr>\n",
       "    <tr>\n",
       "      <th>vitamins</th>\n",
       "      <td>NaN</td>\n",
       "      <td>NaN</td>\n",
       "      <td>NaN</td>\n",
       "      <td>NaN</td>\n",
       "      <td>NaN</td>\n",
       "      <td>NaN</td>\n",
       "      <td>NaN</td>\n",
       "      <td>NaN</td>\n",
       "      <td>NaN</td>\n",
       "      <td>NaN</td>\n",
       "      <td>NaN</td>\n",
       "      <td>NaN</td>\n",
       "      <td>NaN</td>\n",
       "      <td>NaN</td>\n",
       "      <td>NaN</td>\n",
       "    </tr>\n",
       "    <tr>\n",
       "      <th>shelf</th>\n",
       "      <td>NaN</td>\n",
       "      <td>NaN</td>\n",
       "      <td>NaN</td>\n",
       "      <td>NaN</td>\n",
       "      <td>NaN</td>\n",
       "      <td>NaN</td>\n",
       "      <td>NaN</td>\n",
       "      <td>NaN</td>\n",
       "      <td>NaN</td>\n",
       "      <td>NaN</td>\n",
       "      <td>NaN</td>\n",
       "      <td>NaN</td>\n",
       "      <td>NaN</td>\n",
       "      <td>NaN</td>\n",
       "      <td>0.621961</td>\n",
       "    </tr>\n",
       "    <tr>\n",
       "      <th>weight</th>\n",
       "      <td>NaN</td>\n",
       "      <td>NaN</td>\n",
       "      <td>0.906701</td>\n",
       "      <td>NaN</td>\n",
       "      <td>NaN</td>\n",
       "      <td>0.643739</td>\n",
       "      <td>NaN</td>\n",
       "      <td>0.627482</td>\n",
       "      <td>NaN</td>\n",
       "      <td>NaN</td>\n",
       "      <td>NaN</td>\n",
       "      <td>NaN</td>\n",
       "      <td>NaN</td>\n",
       "      <td>NaN</td>\n",
       "      <td>NaN</td>\n",
       "    </tr>\n",
       "    <tr>\n",
       "      <th>cups</th>\n",
       "      <td>NaN</td>\n",
       "      <td>NaN</td>\n",
       "      <td>NaN</td>\n",
       "      <td>NaN</td>\n",
       "      <td>NaN</td>\n",
       "      <td>NaN</td>\n",
       "      <td>NaN</td>\n",
       "      <td>0.710034</td>\n",
       "      <td>NaN</td>\n",
       "      <td>NaN</td>\n",
       "      <td>NaN</td>\n",
       "      <td>NaN</td>\n",
       "      <td>NaN</td>\n",
       "      <td>NaN</td>\n",
       "      <td>0.689927</td>\n",
       "    </tr>\n",
       "    <tr>\n",
       "      <th>rating</th>\n",
       "      <td>0.659749</td>\n",
       "      <td>NaN</td>\n",
       "      <td>NaN</td>\n",
       "      <td>NaN</td>\n",
       "      <td>NaN</td>\n",
       "      <td>0.784847</td>\n",
       "      <td>NaN</td>\n",
       "      <td>0.775616</td>\n",
       "      <td>NaN</td>\n",
       "      <td>NaN</td>\n",
       "      <td>NaN</td>\n",
       "      <td>0.621961</td>\n",
       "      <td>NaN</td>\n",
       "      <td>0.689927</td>\n",
       "      <td>NaN</td>\n",
       "    </tr>\n",
       "  </tbody>\n",
       "</table>\n",
       "</div>"
      ]
     },
     "metadata": {},
     "execution_count": 189
    }
   ],
   "metadata": {}
  },
  {
   "cell_type": "code",
   "execution_count": 190,
   "source": [
    "corr = data_scaled.corr()\r\n",
    "corr_abs = corr.applymap(lambda x: abs(x))\r\n",
    "corr_abs[(corr_abs > 0.6) & (corr_abs != 1)]"
   ],
   "outputs": [
    {
     "output_type": "execute_result",
     "data": {
      "text/plain": [
       "          mfr  type  calories  protein  fat  sodium     fiber  carbo  \\\n",
       "mfr       NaN   NaN       NaN      NaN  NaN     NaN       NaN    NaN   \n",
       "type      NaN   NaN       NaN      NaN  NaN     NaN       NaN    NaN   \n",
       "calories  NaN   NaN       NaN      NaN  NaN     NaN       NaN    NaN   \n",
       "protein   NaN   NaN       NaN      NaN  NaN     NaN       NaN    NaN   \n",
       "fat       NaN   NaN       NaN      NaN  NaN     NaN       NaN    NaN   \n",
       "sodium    NaN   NaN       NaN      NaN  NaN     NaN       NaN    NaN   \n",
       "fiber     NaN   NaN       NaN      NaN  NaN     NaN       NaN    NaN   \n",
       "carbo     NaN   NaN       NaN      NaN  NaN     NaN       NaN    NaN   \n",
       "sugars    NaN   NaN       NaN      NaN  NaN     NaN       NaN    NaN   \n",
       "potass    NaN   NaN       NaN      NaN  NaN     NaN  0.908647    NaN   \n",
       "vitamins  NaN   NaN       NaN      NaN  NaN     NaN       NaN    NaN   \n",
       "shelf     NaN   NaN       NaN      NaN  NaN     NaN       NaN    NaN   \n",
       "weight    NaN   NaN  0.696091      NaN  NaN     NaN       NaN    NaN   \n",
       "cups      NaN   NaN       NaN      NaN  NaN     NaN       NaN    NaN   \n",
       "rating    NaN   NaN  0.689376      NaN  NaN     NaN       NaN    NaN   \n",
       "\n",
       "            sugars    potass  vitamins  shelf    weight  cups    rating  \n",
       "mfr            NaN       NaN       NaN    NaN       NaN   NaN       NaN  \n",
       "type           NaN       NaN       NaN    NaN       NaN   NaN       NaN  \n",
       "calories       NaN       NaN       NaN    NaN  0.696091   NaN  0.689376  \n",
       "protein        NaN       NaN       NaN    NaN       NaN   NaN       NaN  \n",
       "fat            NaN       NaN       NaN    NaN       NaN   NaN       NaN  \n",
       "sodium         NaN       NaN       NaN    NaN       NaN   NaN       NaN  \n",
       "fiber          NaN  0.908647       NaN    NaN       NaN   NaN       NaN  \n",
       "carbo          NaN       NaN       NaN    NaN       NaN   NaN       NaN  \n",
       "sugars         NaN       NaN       NaN    NaN       NaN   NaN  0.762181  \n",
       "potass         NaN       NaN       NaN    NaN       NaN   NaN       NaN  \n",
       "vitamins       NaN       NaN       NaN    NaN       NaN   NaN       NaN  \n",
       "shelf          NaN       NaN       NaN    NaN       NaN   NaN       NaN  \n",
       "weight         NaN       NaN       NaN    NaN       NaN   NaN       NaN  \n",
       "cups           NaN       NaN       NaN    NaN       NaN   NaN       NaN  \n",
       "rating    0.762181       NaN       NaN    NaN       NaN   NaN       NaN  "
      ],
      "text/html": [
       "<div>\n",
       "<style scoped>\n",
       "    .dataframe tbody tr th:only-of-type {\n",
       "        vertical-align: middle;\n",
       "    }\n",
       "\n",
       "    .dataframe tbody tr th {\n",
       "        vertical-align: top;\n",
       "    }\n",
       "\n",
       "    .dataframe thead th {\n",
       "        text-align: right;\n",
       "    }\n",
       "</style>\n",
       "<table border=\"1\" class=\"dataframe\">\n",
       "  <thead>\n",
       "    <tr style=\"text-align: right;\">\n",
       "      <th></th>\n",
       "      <th>mfr</th>\n",
       "      <th>type</th>\n",
       "      <th>calories</th>\n",
       "      <th>protein</th>\n",
       "      <th>fat</th>\n",
       "      <th>sodium</th>\n",
       "      <th>fiber</th>\n",
       "      <th>carbo</th>\n",
       "      <th>sugars</th>\n",
       "      <th>potass</th>\n",
       "      <th>vitamins</th>\n",
       "      <th>shelf</th>\n",
       "      <th>weight</th>\n",
       "      <th>cups</th>\n",
       "      <th>rating</th>\n",
       "    </tr>\n",
       "  </thead>\n",
       "  <tbody>\n",
       "    <tr>\n",
       "      <th>mfr</th>\n",
       "      <td>NaN</td>\n",
       "      <td>NaN</td>\n",
       "      <td>NaN</td>\n",
       "      <td>NaN</td>\n",
       "      <td>NaN</td>\n",
       "      <td>NaN</td>\n",
       "      <td>NaN</td>\n",
       "      <td>NaN</td>\n",
       "      <td>NaN</td>\n",
       "      <td>NaN</td>\n",
       "      <td>NaN</td>\n",
       "      <td>NaN</td>\n",
       "      <td>NaN</td>\n",
       "      <td>NaN</td>\n",
       "      <td>NaN</td>\n",
       "    </tr>\n",
       "    <tr>\n",
       "      <th>type</th>\n",
       "      <td>NaN</td>\n",
       "      <td>NaN</td>\n",
       "      <td>NaN</td>\n",
       "      <td>NaN</td>\n",
       "      <td>NaN</td>\n",
       "      <td>NaN</td>\n",
       "      <td>NaN</td>\n",
       "      <td>NaN</td>\n",
       "      <td>NaN</td>\n",
       "      <td>NaN</td>\n",
       "      <td>NaN</td>\n",
       "      <td>NaN</td>\n",
       "      <td>NaN</td>\n",
       "      <td>NaN</td>\n",
       "      <td>NaN</td>\n",
       "    </tr>\n",
       "    <tr>\n",
       "      <th>calories</th>\n",
       "      <td>NaN</td>\n",
       "      <td>NaN</td>\n",
       "      <td>NaN</td>\n",
       "      <td>NaN</td>\n",
       "      <td>NaN</td>\n",
       "      <td>NaN</td>\n",
       "      <td>NaN</td>\n",
       "      <td>NaN</td>\n",
       "      <td>NaN</td>\n",
       "      <td>NaN</td>\n",
       "      <td>NaN</td>\n",
       "      <td>NaN</td>\n",
       "      <td>0.696091</td>\n",
       "      <td>NaN</td>\n",
       "      <td>0.689376</td>\n",
       "    </tr>\n",
       "    <tr>\n",
       "      <th>protein</th>\n",
       "      <td>NaN</td>\n",
       "      <td>NaN</td>\n",
       "      <td>NaN</td>\n",
       "      <td>NaN</td>\n",
       "      <td>NaN</td>\n",
       "      <td>NaN</td>\n",
       "      <td>NaN</td>\n",
       "      <td>NaN</td>\n",
       "      <td>NaN</td>\n",
       "      <td>NaN</td>\n",
       "      <td>NaN</td>\n",
       "      <td>NaN</td>\n",
       "      <td>NaN</td>\n",
       "      <td>NaN</td>\n",
       "      <td>NaN</td>\n",
       "    </tr>\n",
       "    <tr>\n",
       "      <th>fat</th>\n",
       "      <td>NaN</td>\n",
       "      <td>NaN</td>\n",
       "      <td>NaN</td>\n",
       "      <td>NaN</td>\n",
       "      <td>NaN</td>\n",
       "      <td>NaN</td>\n",
       "      <td>NaN</td>\n",
       "      <td>NaN</td>\n",
       "      <td>NaN</td>\n",
       "      <td>NaN</td>\n",
       "      <td>NaN</td>\n",
       "      <td>NaN</td>\n",
       "      <td>NaN</td>\n",
       "      <td>NaN</td>\n",
       "      <td>NaN</td>\n",
       "    </tr>\n",
       "    <tr>\n",
       "      <th>sodium</th>\n",
       "      <td>NaN</td>\n",
       "      <td>NaN</td>\n",
       "      <td>NaN</td>\n",
       "      <td>NaN</td>\n",
       "      <td>NaN</td>\n",
       "      <td>NaN</td>\n",
       "      <td>NaN</td>\n",
       "      <td>NaN</td>\n",
       "      <td>NaN</td>\n",
       "      <td>NaN</td>\n",
       "      <td>NaN</td>\n",
       "      <td>NaN</td>\n",
       "      <td>NaN</td>\n",
       "      <td>NaN</td>\n",
       "      <td>NaN</td>\n",
       "    </tr>\n",
       "    <tr>\n",
       "      <th>fiber</th>\n",
       "      <td>NaN</td>\n",
       "      <td>NaN</td>\n",
       "      <td>NaN</td>\n",
       "      <td>NaN</td>\n",
       "      <td>NaN</td>\n",
       "      <td>NaN</td>\n",
       "      <td>NaN</td>\n",
       "      <td>NaN</td>\n",
       "      <td>NaN</td>\n",
       "      <td>0.908647</td>\n",
       "      <td>NaN</td>\n",
       "      <td>NaN</td>\n",
       "      <td>NaN</td>\n",
       "      <td>NaN</td>\n",
       "      <td>NaN</td>\n",
       "    </tr>\n",
       "    <tr>\n",
       "      <th>carbo</th>\n",
       "      <td>NaN</td>\n",
       "      <td>NaN</td>\n",
       "      <td>NaN</td>\n",
       "      <td>NaN</td>\n",
       "      <td>NaN</td>\n",
       "      <td>NaN</td>\n",
       "      <td>NaN</td>\n",
       "      <td>NaN</td>\n",
       "      <td>NaN</td>\n",
       "      <td>NaN</td>\n",
       "      <td>NaN</td>\n",
       "      <td>NaN</td>\n",
       "      <td>NaN</td>\n",
       "      <td>NaN</td>\n",
       "      <td>NaN</td>\n",
       "    </tr>\n",
       "    <tr>\n",
       "      <th>sugars</th>\n",
       "      <td>NaN</td>\n",
       "      <td>NaN</td>\n",
       "      <td>NaN</td>\n",
       "      <td>NaN</td>\n",
       "      <td>NaN</td>\n",
       "      <td>NaN</td>\n",
       "      <td>NaN</td>\n",
       "      <td>NaN</td>\n",
       "      <td>NaN</td>\n",
       "      <td>NaN</td>\n",
       "      <td>NaN</td>\n",
       "      <td>NaN</td>\n",
       "      <td>NaN</td>\n",
       "      <td>NaN</td>\n",
       "      <td>0.762181</td>\n",
       "    </tr>\n",
       "    <tr>\n",
       "      <th>potass</th>\n",
       "      <td>NaN</td>\n",
       "      <td>NaN</td>\n",
       "      <td>NaN</td>\n",
       "      <td>NaN</td>\n",
       "      <td>NaN</td>\n",
       "      <td>NaN</td>\n",
       "      <td>0.908647</td>\n",
       "      <td>NaN</td>\n",
       "      <td>NaN</td>\n",
       "      <td>NaN</td>\n",
       "      <td>NaN</td>\n",
       "      <td>NaN</td>\n",
       "      <td>NaN</td>\n",
       "      <td>NaN</td>\n",
       "      <td>NaN</td>\n",
       "    </tr>\n",
       "    <tr>\n",
       "      <th>vitamins</th>\n",
       "      <td>NaN</td>\n",
       "      <td>NaN</td>\n",
       "      <td>NaN</td>\n",
       "      <td>NaN</td>\n",
       "      <td>NaN</td>\n",
       "      <td>NaN</td>\n",
       "      <td>NaN</td>\n",
       "      <td>NaN</td>\n",
       "      <td>NaN</td>\n",
       "      <td>NaN</td>\n",
       "      <td>NaN</td>\n",
       "      <td>NaN</td>\n",
       "      <td>NaN</td>\n",
       "      <td>NaN</td>\n",
       "      <td>NaN</td>\n",
       "    </tr>\n",
       "    <tr>\n",
       "      <th>shelf</th>\n",
       "      <td>NaN</td>\n",
       "      <td>NaN</td>\n",
       "      <td>NaN</td>\n",
       "      <td>NaN</td>\n",
       "      <td>NaN</td>\n",
       "      <td>NaN</td>\n",
       "      <td>NaN</td>\n",
       "      <td>NaN</td>\n",
       "      <td>NaN</td>\n",
       "      <td>NaN</td>\n",
       "      <td>NaN</td>\n",
       "      <td>NaN</td>\n",
       "      <td>NaN</td>\n",
       "      <td>NaN</td>\n",
       "      <td>NaN</td>\n",
       "    </tr>\n",
       "    <tr>\n",
       "      <th>weight</th>\n",
       "      <td>NaN</td>\n",
       "      <td>NaN</td>\n",
       "      <td>0.696091</td>\n",
       "      <td>NaN</td>\n",
       "      <td>NaN</td>\n",
       "      <td>NaN</td>\n",
       "      <td>NaN</td>\n",
       "      <td>NaN</td>\n",
       "      <td>NaN</td>\n",
       "      <td>NaN</td>\n",
       "      <td>NaN</td>\n",
       "      <td>NaN</td>\n",
       "      <td>NaN</td>\n",
       "      <td>NaN</td>\n",
       "      <td>NaN</td>\n",
       "    </tr>\n",
       "    <tr>\n",
       "      <th>cups</th>\n",
       "      <td>NaN</td>\n",
       "      <td>NaN</td>\n",
       "      <td>NaN</td>\n",
       "      <td>NaN</td>\n",
       "      <td>NaN</td>\n",
       "      <td>NaN</td>\n",
       "      <td>NaN</td>\n",
       "      <td>NaN</td>\n",
       "      <td>NaN</td>\n",
       "      <td>NaN</td>\n",
       "      <td>NaN</td>\n",
       "      <td>NaN</td>\n",
       "      <td>NaN</td>\n",
       "      <td>NaN</td>\n",
       "      <td>NaN</td>\n",
       "    </tr>\n",
       "    <tr>\n",
       "      <th>rating</th>\n",
       "      <td>NaN</td>\n",
       "      <td>NaN</td>\n",
       "      <td>0.689376</td>\n",
       "      <td>NaN</td>\n",
       "      <td>NaN</td>\n",
       "      <td>NaN</td>\n",
       "      <td>NaN</td>\n",
       "      <td>NaN</td>\n",
       "      <td>0.762181</td>\n",
       "      <td>NaN</td>\n",
       "      <td>NaN</td>\n",
       "      <td>NaN</td>\n",
       "      <td>NaN</td>\n",
       "      <td>NaN</td>\n",
       "      <td>NaN</td>\n",
       "    </tr>\n",
       "  </tbody>\n",
       "</table>\n",
       "</div>"
      ]
     },
     "metadata": {},
     "execution_count": 190
    }
   ],
   "metadata": {}
  },
  {
   "cell_type": "markdown",
   "source": [
    "## Conclude\r\n",
    "\r\n",
    "a)Which pair of variables is the most strongly correlated?\r\n",
    "\r\n",
    "potass and fiber are most strongly correlated\r\n",
    "\r\n",
    "b)How can we reduce the number of variables based on these correlations?\r\n",
    "\r\n",
    "only leave the columns most correlated to consumer rating or use dim-reduce algors PCA/t-SNE\r\n",
    "\r\n",
    "c)How would the corrections change if we normalize this data first?\r\n",
    "\r\n",
    "changed.\r\n"
   ],
   "metadata": {}
  },
  {
   "cell_type": "markdown",
   "source": [
    "# PCA & LR"
   ],
   "metadata": {}
  },
  {
   "cell_type": "code",
   "execution_count": 192,
   "source": [
    "from sklearn.decomposition import PCA\r\n",
    "from sklearn.model_selection import train_test_split\r\n",
    "x = data_scaled.drop(columns=[\"rating\"],axis=1,inplace = False)\r\n",
    "x = x.to_numpy()\r\n",
    "\r\n",
    "y = data_scaled[\"rating\"].values"
   ],
   "outputs": [
    {
     "output_type": "execute_result",
     "data": {
      "text/plain": [
       "PCA(n_components=3)"
      ]
     },
     "metadata": {},
     "execution_count": 192
    }
   ],
   "metadata": {}
  },
  {
   "cell_type": "code",
   "execution_count": 217,
   "source": [
    "pca = PCA(n_components=3)\r\n",
    "pca.fit(x)"
   ],
   "outputs": [
    {
     "output_type": "execute_result",
     "data": {
      "text/plain": [
       "PCA(n_components=3)"
      ]
     },
     "metadata": {},
     "execution_count": 217
    }
   ],
   "metadata": {}
  },
  {
   "cell_type": "code",
   "execution_count": 193,
   "source": [
    "print(pca.explained_variance_ratio_)\r\n",
    "print(pca.singular_values_)"
   ],
   "outputs": [
    {
     "output_type": "stream",
     "name": "stdout",
     "text": [
      "[0.27067314 0.17047588 0.13441665]\n",
      "[4.05212169 3.21581733 2.85552805]\n"
     ]
    }
   ],
   "metadata": {}
  },
  {
   "cell_type": "code",
   "execution_count": 194,
   "source": [
    "xx = pca.transform(x)"
   ],
   "outputs": [],
   "metadata": {}
  },
  {
   "cell_type": "code",
   "execution_count": 195,
   "source": [
    "xx"
   ],
   "outputs": [
    {
     "output_type": "execute_result",
     "data": {
      "text/plain": [
       "array([[-0.79026293,  0.57660074, -0.18881556],\n",
       "       [-0.53808631,  0.31122861, -0.63420626],\n",
       "       [-0.77345372,  0.3899229 ,  0.08022193],\n",
       "       [-0.73853496,  0.84728194,  0.24553965],\n",
       "       [-0.3476459 ,  0.07532718, -0.14587217],\n",
       "       [ 0.44632734, -0.29266446, -0.33514071],\n",
       "       [ 0.14709642, -0.31785783, -0.35931641],\n",
       "       [-0.4090257 , -0.32695757,  0.19369199],\n",
       "       [ 0.48185585,  0.27437636, -0.21580972],\n",
       "       [-0.4352923 ,  0.3046169 ,  0.14938067],\n",
       "       [ 0.11268581, -0.27905195, -0.42281905],\n",
       "       [ 0.52799147,  0.02696071,  0.44543998],\n",
       "       [ 0.09701519, -0.42672834, -0.15961805],\n",
       "       [-0.451418  , -0.03434803,  0.0209035 ],\n",
       "       [ 0.15383086, -0.48083661, -0.26209246],\n",
       "       [ 0.80908612,  0.0682768 ,  0.24478989],\n",
       "       [ 0.78515643, -0.10704797,  0.44862692],\n",
       "       [ 0.21731418, -0.26237995, -0.28881058],\n",
       "       [ 0.14439559, -0.47497586, -0.26350477],\n",
       "       [-0.59193366,  0.07941826, -0.15070079],\n",
       "       [ 0.37104468,  0.62203374,  0.29350015],\n",
       "       [-0.06780122, -0.07615752,  0.54711966],\n",
       "       [-0.40304811, -0.14953167, -0.10282539],\n",
       "       [-0.19254455,  0.23523122,  0.16149981],\n",
       "       [ 0.12163225, -0.30067863, -0.36301992],\n",
       "       [ 0.62096075, -0.3445892 , -0.23837602],\n",
       "       [ 0.0750989 ,  0.24028999, -0.1361977 ],\n",
       "       [-0.61791111,  0.02575746, -0.23860852],\n",
       "       [-0.54194052, -0.26179319, -0.00611291],\n",
       "       [ 0.16031021, -0.19656361, -0.39417728],\n",
       "       [ 0.54099398, -0.09904986, -0.68806373],\n",
       "       [ 0.19813098, -0.4549628 ,  0.06050233],\n",
       "       [-0.30368354,  0.22769946,  0.10910295],\n",
       "       [-0.34088763,  0.31043918,  0.25102639],\n",
       "       [-0.50357555,  0.32065867, -0.12460534],\n",
       "       [ 0.13847511, -0.25013042, -0.36152821],\n",
       "       [ 0.45112171, -0.30717592, -0.16942662],\n",
       "       [ 0.71925316, -0.26271925, -0.2944287 ],\n",
       "       [-0.30218192, -0.33656112,  0.47583235],\n",
       "       [-0.46602595, -0.49337248,  0.40780309],\n",
       "       [ 0.40300664, -0.27183768,  0.52487411],\n",
       "       [-0.01255054,  0.28841188, -0.18955892],\n",
       "       [ 0.13448634, -0.39941174, -0.198031  ],\n",
       "       [ 0.20365417,  0.38025438,  0.15577008],\n",
       "       [-0.53315835,  0.09689931, -0.33851719],\n",
       "       [-0.52696791,  0.02806978, -0.27919088],\n",
       "       [-0.58700328, -0.42729894, -0.17570065],\n",
       "       [ 0.58327187, -0.1757971 ,  0.05241475],\n",
       "       [ 0.14791177, -0.25758685, -0.06910875],\n",
       "       [-0.4288787 , -0.2404162 ,  0.25858894],\n",
       "       [-0.19430426,  0.19905807,  0.48500917],\n",
       "       [-0.51719721, -0.28679686, -0.06906754],\n",
       "       [-0.70323269, -0.11049108, -0.34622287],\n",
       "       [-0.2043697 , -0.34306983,  0.91011383],\n",
       "       [ 0.04315264,  0.80208385,  0.03058953],\n",
       "       [-0.06046895,  0.89179033, -0.02662367],\n",
       "       [-0.41994298,  0.35094712, -0.01920288],\n",
       "       [ 0.45116089,  0.73667881, -0.50043338],\n",
       "       [-0.19605086, -0.22635366, -0.19192767],\n",
       "       [-0.5184627 , -0.00485827, -0.08111165],\n",
       "       [-0.33466712,  0.28374797, -0.00698704],\n",
       "       [ 0.86710045,  0.0933129 ,  0.25434351],\n",
       "       [ 0.79410136, -0.18854211,  0.42775137],\n",
       "       [ 0.70450719,  0.63654294, -0.03427434],\n",
       "       [ 0.57092407,  0.68454537,  0.02206016],\n",
       "       [ 0.61303376,  0.65590379,  0.05055699],\n",
       "       [ 0.02919486, -0.26415754, -0.57752577],\n",
       "       [ 0.58480204,  0.11564912,  0.30394581],\n",
       "       [ 0.18065198,  0.30757222, -0.05561296],\n",
       "       [-0.19860288, -0.37213227,  0.77696754],\n",
       "       [-0.6950711 , -0.70071345,  0.14905884],\n",
       "       [-0.38083107, -0.19547446,  0.6691841 ],\n",
       "       [-0.15508792, -0.16454151,  0.55223269],\n",
       "       [ 0.19598249, -0.41633254, -0.23561009],\n",
       "       [ 0.51997893,  0.33274323,  0.00678889],\n",
       "       [ 0.56592902,  0.02047785,  0.22245744],\n",
       "       [ 0.56947433, -0.25886269, -0.04890495]])"
      ]
     },
     "metadata": {},
     "execution_count": 195
    }
   ],
   "metadata": {}
  },
  {
   "cell_type": "code",
   "execution_count": 201,
   "source": [
    "x_train, x_test, y_train, y_test = train_test_split(x, y, test_size=0.3, random_state=12345)\r\n",
    "xx_train, xx_test, yy_train, yy_test = train_test_split(xx, y, test_size=0.3, random_state=12345)"
   ],
   "outputs": [],
   "metadata": {}
  },
  {
   "cell_type": "code",
   "execution_count": 203,
   "source": [
    "print(x_train,y_train)"
   ],
   "outputs": [
    {
     "output_type": "stream",
     "name": "stdout",
     "text": [
      "[[0.66666667 0.         0.45454545 0.4        0.2        0.4375\n",
      "  0.21428571 0.55555556 0.33333333 0.22222222 0.25       1.\n",
      "  0.5        0.504     ]\n",
      " [0.16666667 0.         0.54545455 0.2        0.2        0.625\n",
      "  0.         0.88888889 0.2        0.06349206 1.         1.\n",
      "  0.5        0.6       ]\n",
      " [0.16666667 0.         0.45454545 0.2        0.2        0.4375\n",
      "  0.14285714 0.33333333 0.66666667 0.33333333 0.25       1.\n",
      "  0.5        0.4       ]\n",
      " [0.33333333 0.         0.45454545 0.4        0.         1.\n",
      "  0.07142857 0.83333333 0.2        0.0952381  1.         1.\n",
      "  0.5        0.6       ]\n",
      " [0.33333333 0.         0.54545455 0.2        0.2        0.21875\n",
      "  0.07142857 0.22222222 1.         0.07936508 0.25       0.5\n",
      "  0.5        0.4       ]\n",
      " [0.5        0.         0.36363636 0.4        0.         0.\n",
      "  0.21428571 0.83333333 0.         0.33333333 0.         0.\n",
      "  0.5        0.336     ]\n",
      " [0.16666667 0.         0.72727273 0.4        0.4        0.53125\n",
      "  0.10714286 0.47222222 0.66666667 0.33333333 0.25       1.\n",
      "  0.75       0.2       ]\n",
      " [0.66666667 0.         0.63636364 0.4        0.2        0.625\n",
      "  0.42857143 0.33333333 0.93333333 0.77777778 0.25       1.\n",
      "  0.83       0.336     ]\n",
      " [0.33333333 0.         0.54545455 0.2        0.2        0.390625\n",
      "  0.07142857 0.33333333 0.86666667 0.04761905 0.25       0.5\n",
      "  0.5        0.6       ]\n",
      " [0.33333333 0.         0.63636364 0.4        0.2        0.65625\n",
      "  0.35714286 0.5        0.8        0.71428571 0.25       0.5\n",
      "  0.83       0.4       ]\n",
      " [0.33333333 0.         0.45454545 0.2        0.         0.90625\n",
      "  0.07142857 0.88888889 0.13333333 0.06349206 0.25       0.\n",
      "  0.5        0.6       ]\n",
      " [0.33333333 0.         1.         0.4        0.4        0.46875\n",
      "  0.21428571 0.66666667 0.86666667 0.46031746 0.25       1.\n",
      "  1.         0.336     ]\n",
      " [0.16666667 0.         0.63636364 0.         0.6        0.65625\n",
      "  0.         0.44444444 0.6        0.0952381  0.25       0.5\n",
      "  0.5        0.4       ]\n",
      " [0.33333333 0.         0.54545455 0.4        0.6        0.4375\n",
      "  0.28571429 0.27777778 0.46666667 0.46031746 0.25       1.\n",
      "  0.5        0.2       ]\n",
      " [0.16666667 0.         0.54545455 0.2        0.2        0.8125\n",
      "  0.         0.88888889 0.2        0.07936508 0.25       0.5\n",
      "  0.5        1.        ]\n",
      " [0.16666667 0.         0.54545455 0.2        0.2        0.5625\n",
      "  0.         0.38888889 0.8        0.12698413 0.25       0.5\n",
      "  0.5        0.6       ]\n",
      " [1.         0.         0.90909091 0.6        0.6        0.296875\n",
      "  0.21428571 0.61111111 0.73333333 0.49206349 0.25       1.\n",
      "  0.5        0.6       ]\n",
      " [1.         0.         0.36363636 0.2        0.2        0.625\n",
      "  0.28571429 0.55555556 0.4        0.34920635 0.25       0.\n",
      "  0.5        0.336     ]\n",
      " [0.16666667 0.         0.54545455 0.2        0.2        0.78125\n",
      "  0.         0.88888889 0.2        0.14285714 0.25       1.\n",
      "  0.5        0.4       ]\n",
      " [0.33333333 0.         0.81818182 0.4        0.4        0.6875\n",
      "  0.21428571 0.88888889 0.46666667 0.36507937 0.25       1.\n",
      "  0.83       0.336     ]\n",
      " [0.5        0.         0.27272727 0.2        0.         0.\n",
      "  0.21428571 0.61111111 0.         0.25396825 0.         0.\n",
      "  0.33       0.6       ]\n",
      " [0.33333333 0.         0.54545455 0.         0.         0.28125\n",
      "  0.07142857 0.44444444 0.8        0.01587302 0.25       0.5\n",
      "  0.5        0.6       ]\n",
      " [0.5        0.         0.36363636 0.2        0.         0.046875\n",
      "  0.21428571 0.55555556 0.33333333 0.23809524 0.25       0.5\n",
      "  0.5        0.6       ]\n",
      " [0.33333333 0.         0.54545455 1.         0.         0.71875\n",
      "  0.07142857 0.61111111 0.2        0.12698413 0.25       0.\n",
      "  0.5        0.6       ]\n",
      " [1.         0.         0.54545455 0.2        0.         0.875\n",
      "  0.         0.94444444 0.2        0.03174603 0.25       0.\n",
      "  0.5        0.6       ]\n",
      " [0.16666667 0.         0.54545455 0.2        0.4        0.5625\n",
      "  0.10714286 0.30555556 0.66666667 0.17460317 0.25       0.\n",
      "  0.5        0.4       ]\n",
      " [0.33333333 0.         0.         0.6        0.         0.4375\n",
      "  1.         0.16666667 0.         1.         0.25       1.\n",
      "  0.5        0.2       ]\n",
      " [0.16666667 0.         0.45454545 0.2        0.2        0.6875\n",
      "  0.14285714 0.55555556 0.4        0.23809524 0.25       0.\n",
      "  0.5        0.6       ]\n",
      " [0.5        0.         0.18181818 0.6        0.2        0.40625\n",
      "  0.71428571 0.         0.4        0.84126984 0.25       1.\n",
      "  0.5        0.064     ]\n",
      " [1.         0.         0.45454545 0.4        0.2        0.71875\n",
      "  0.21428571 0.66666667 0.2        0.31746032 0.25       0.\n",
      "  0.5        0.336     ]\n",
      " [1.         0.         0.54545455 0.         0.         0.75\n",
      "  0.         1.         0.13333333 0.04761905 0.25       0.\n",
      "  0.5        0.704     ]\n",
      " [0.66666667 0.         0.63636364 0.4        0.4        0.5\n",
      "  0.35714286 0.38888889 0.66666667 0.58730159 0.25       1.\n",
      "  0.75       0.336     ]\n",
      " [0.66666667 0.         0.54545455 0.4        0.         0.53125\n",
      "  0.21428571 0.66666667 0.2        0.23809524 0.25       1.\n",
      "  0.5        0.        ]\n",
      " [0.16666667 0.         0.54545455 0.         0.2        0.875\n",
      "  0.         0.55555556 0.6        0.0952381  0.25       0.5\n",
      "  0.5        0.4       ]\n",
      " [0.83333333 0.         0.         0.2        0.         0.\n",
      "  0.07142857 0.27777778 0.         0.11111111 0.         1.\n",
      "  0.         0.6       ]\n",
      " [0.83333333 0.         0.45454545 0.6        0.2        0.421875\n",
      "  0.14285714 0.5        0.4        0.3015873  0.25       1.\n",
      "  0.5        0.2       ]\n",
      " [0.16666667 0.         0.45454545 0.4        0.2        0.625\n",
      "  0.21428571 0.61111111 0.2        0.3015873  1.         1.\n",
      "  0.5        0.6       ]\n",
      " [1.         0.         0.45454545 0.2        0.         0.59375\n",
      "  0.07142857 0.72222222 0.33333333 0.20634921 0.25       1.\n",
      "  0.5        0.4       ]\n",
      " [0.33333333 0.         0.81818182 0.4        0.2        0.53125\n",
      "  0.14285714 0.83333333 0.6        0.25396825 1.         1.\n",
      "  0.8        0.4       ]\n",
      " [0.         1.         0.45454545 0.6        0.2        0.\n",
      "  0.         0.61111111 0.2        0.25396825 0.25       0.5\n",
      "  0.5        0.6       ]\n",
      " [0.16666667 0.         0.72727273 0.4        0.4        0.65625\n",
      "  0.14285714 0.72222222 0.53333333 0.26984127 0.25       1.\n",
      "  0.83       0.4       ]\n",
      " [0.33333333 0.         0.54545455 0.2        0.2        0.53125\n",
      "  0.07142857 0.66666667 0.4        0.14285714 1.         1.\n",
      "  0.5        0.6       ]\n",
      " [0.83333333 0.         0.63636364 0.         0.4        0.6875\n",
      "  0.         0.38888889 0.8        0.06349206 0.25       0.5\n",
      "  0.5        0.4       ]\n",
      " [0.16666667 0.         0.54545455 1.         0.4        0.90625\n",
      "  0.14285714 0.66666667 0.06666667 0.28571429 0.25       0.\n",
      "  0.5        0.8       ]\n",
      " [0.16666667 0.         0.54545455 0.         0.2        0.5625\n",
      "  0.         0.38888889 0.86666667 0.12698413 0.25       0.5\n",
      "  0.5        0.6       ]\n",
      " [0.16666667 0.         0.45454545 0.4        0.4        0.4375\n",
      "  0.17857143 0.30555556 0.53333333 0.3968254  0.25       1.\n",
      "  0.5        0.2       ]\n",
      " [0.16666667 0.         0.45454545 0.4        0.2        0.625\n",
      "  0.21428571 0.66666667 0.2        0.3015873  0.25       0.\n",
      "  0.5        0.6       ]\n",
      " [0.16666667 0.         0.54545455 0.2        0.2        0.625\n",
      "  0.07142857 0.61111111 0.53333333 0.14285714 0.25       0.\n",
      "  0.5        0.4       ]\n",
      " [0.66666667 0.         0.63636364 0.4        0.6        0.234375\n",
      "  0.21428571 0.44444444 0.26666667 0.26984127 0.25       1.\n",
      "  0.5        0.064     ]\n",
      " [0.83333333 0.         0.45454545 0.6        0.4        0.46875\n",
      "  0.14285714 0.38888889 0.4        0.25396825 0.25       0.5\n",
      "  0.5        0.336     ]\n",
      " [0.16666667 0.         0.54545455 0.4        0.2        0.78125\n",
      "  0.10714286 0.36111111 0.66666667 0.23809524 0.25       0.\n",
      "  0.5        0.4       ]\n",
      " [0.83333333 0.         0.63636364 0.4        1.         0.046875\n",
      "  0.14285714 0.16666667 0.53333333 0.38095238 0.         1.\n",
      "  0.5        0.6       ]\n",
      " [0.66666667 0.         0.54545455 0.         0.2        0.421875\n",
      "  0.         0.44444444 0.8        0.03174603 0.25       0.5\n",
      "  0.5        0.4       ]] [0.44981653 0.27486556 0.23966232 0.31007203 0.17429082 0.72373043\n",
      " 0.16399225 0.26166011 0.18721048 0.28040931 0.36769383 0.16217507\n",
      " 0.0235352  0.29613152 0.28017031 0.1148748  0.25235913 0.41073956\n",
      " 0.27838685 0.29935041 0.66338444 0.23446282 0.54612763 0.46375254\n",
      " 0.30929858 0.15155138 1.         0.29160075 0.66559279 0.41955762\n",
      " 0.31661947 0.30232055 0.46692035 0.07614374 0.59425812 0.41591549\n",
      " 0.37820795 0.34743972 0.24356541 0.48647982 0.25105992 0.24425494\n",
      " 0.         0.43247762 0.06203367 0.28628019 0.44341036 0.2398125\n",
      " 0.36701174 0.36061961 0.17220475 0.21068456 0.13194082]\n"
     ]
    }
   ],
   "metadata": {}
  },
  {
   "cell_type": "code",
   "execution_count": 211,
   "source": [
    "from sklearn.svm import SVR\r\n",
    "from sklearn.linear_model import SGDRegressor\r\n",
    "from sklearn.linear_model import BayesianRidge\r\n",
    "from sklearn.linear_model import LassoLars\r\n",
    "from sklearn.linear_model import ARDRegression\r\n",
    "from sklearn.linear_model import PassiveAggressiveRegressor\r\n",
    "from sklearn.linear_model import TheilSenRegressor\r\n",
    "from sklearn.linear_model import LinearRegression\r\n",
    "from sklearn.metrics import mean_squared_error"
   ],
   "outputs": [],
   "metadata": {}
  },
  {
   "cell_type": "code",
   "execution_count": 215,
   "source": [
    "models = [SVR,SGDRegressor,BayesianRidge,LassoLars,ARDRegression,\r\n",
    "          PassiveAggressiveRegressor,TheilSenRegressor,LinearRegression]\r\n",
    "# models = [LinearRegression]\r\n",
    "\r\n",
    "for model_cls in models:\r\n",
    "    model = model_cls()\r\n",
    "    model.fit(x_train,y_train)\r\n",
    "    pred = model.predict(x_test)\r\n",
    "    acc = mean_squared_error(y_test,pred)\r\n",
    "    print(\"test mse of model {} without pca is {}.\".format(model.__class__.__name__, acc))"
   ],
   "outputs": [
    {
     "output_type": "stream",
     "name": "stdout",
     "text": [
      "test mse of model SVR without pca is 0.009032961919145535.\n",
      "test mse of model SGDRegressor without pca is 0.037438749151964074.\n",
      "test mse of model BayesianRidge without pca is 0.0011204906364997286.\n",
      "test mse of model LassoLars without pca is 0.03667568854855401.\n",
      "test mse of model ARDRegression without pca is 0.0011205196861830697.\n",
      "test mse of model PassiveAggressiveRegressor without pca is 0.005096672098823002.\n",
      "test mse of model TheilSenRegressor without pca is 0.0011204887688232707.\n",
      "test mse of model LinearRegression without pca is 0.0011205259012265455.\n"
     ]
    }
   ],
   "metadata": {}
  },
  {
   "cell_type": "code",
   "execution_count": 216,
   "source": [
    "for model_cls in models:\r\n",
    "    model = model_cls()\r\n",
    "    model.fit(xx_train,yy_train)\r\n",
    "    pred = model.predict(xx_test)\r\n",
    "    acc = mean_squared_error(yy_test,pred)\r\n",
    "    print(\"test mse of model {} with pca is {}.\".format(model.__class__.__name__, acc))"
   ],
   "outputs": [
    {
     "output_type": "stream",
     "name": "stdout",
     "text": [
      "test mse of model SVR with pca is 0.007579782353899609.\n",
      "test mse of model SGDRegressor with pca is 0.02667579922757113.\n",
      "test mse of model BayesianRidge with pca is 0.0056343658777519845.\n",
      "test mse of model LassoLars with pca is 0.03667568854855401.\n",
      "test mse of model ARDRegression with pca is 0.005710364103469631.\n",
      "test mse of model PassiveAggressiveRegressor with pca is 0.7189278522116463.\n",
      "test mse of model TheilSenRegressor with pca is 0.005301477246321688.\n",
      "test mse of model LinearRegression with pca is 0.005726080590725218.\n"
     ]
    }
   ],
   "metadata": {}
  }
 ],
 "metadata": {
  "orig_nbformat": 4,
  "language_info": {
   "name": "python",
   "version": "3.9.5",
   "mimetype": "text/x-python",
   "codemirror_mode": {
    "name": "ipython",
    "version": 3
   },
   "pygments_lexer": "ipython3",
   "nbconvert_exporter": "python",
   "file_extension": ".py"
  },
  "kernelspec": {
   "name": "python3",
   "display_name": "Python 3.9.5 64-bit ('fin_tech': conda)"
  },
  "interpreter": {
   "hash": "9948b3b9d33f0305b39fd09d95cd5fef6670fd8feccc18bb2618095f6049b536"
  }
 },
 "nbformat": 4,
 "nbformat_minor": 2
}